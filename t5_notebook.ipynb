{
 "cells": [
  {
   "cell_type": "markdown",
   "metadata": {},
   "source": [
    "# Medical Specialty Classification with T5\n",
    "\n",
    "T5 (\"Text-to-Text Transfer Transformer\") is an encoder-decoder based model which was shown to be useful for many NLP tasks.\\\n",
    "The base of the work is a pretrained model on a large scale English text dataset. In this notebook, we finetune  it to the task of medical specialty classification.\n"
   ]
  },
  {
   "cell_type": "markdown",
   "metadata": {
    "tags": []
   },
   "source": [
    "## Imports\n",
    "The code is written using **PyTorch**. \\\n",
    "T5 implementation was taken from **transformers** library by [huggingface](https://github.com/huggingface/transformers)."
   ]
  },
  {
   "cell_type": "code",
   "execution_count": 1,
   "metadata": {
    "colab": {
     "base_uri": "https://localhost:8080/"
    },
    "id": "hY92uROr8N10",
    "outputId": "3288ab84-0d22-4a08-9707-712f8644c879",
    "tags": []
   },
   "outputs": [
    {
     "name": "stderr",
     "output_type": "stream",
     "text": [
      "[nltk_data] Downloading package stopwords to\n",
      "[nltk_data]     /home/hagaymi/nltk_data...\n",
      "[nltk_data]   Package stopwords is already up-to-date!\n"
     ]
    }
   ],
   "source": [
    "# task imports\n",
    "%matplotlib inline\n",
    "import os\n",
    "import re\n",
    "import matplotlib\n",
    "import numpy as np\n",
    "import matplotlib.pyplot as plt\n",
    "import pandas as pd\n",
    "from sklearn.feature_extraction.text import TfidfVectorizer\n",
    "from sklearn.preprocessing import MultiLabelBinarizer\n",
    "from sklearn.linear_model import LogisticRegression\n",
    "from sklearn.metrics import accuracy_score\n",
    "from sklearn.multiclass import OneVsRestClassifier\n",
    "from nltk.corpus import stopwords\n",
    "# stop_words = set(stopwords.words('english'))\n",
    "from sklearn.linear_model import LogisticRegression\n",
    "from sklearn.pipeline import Pipeline\n",
    "import seaborn as sns\n",
    "\n",
    "import nltk\n",
    "nltk.download('stopwords')\n",
    "stop_words = set(stopwords.words('english'))\n",
    "\n",
    "import pandas as pd\n",
    "import numpy as np\n",
    "import pickle\n",
    "import matplotlib.pyplot as plt\n",
    "import seaborn as sns\n",
    "import re\n",
    "import copy\n",
    "from tqdm.notebook import tqdm\n",
    "import gc\n",
    "\n",
    "import torch\n",
    "import torch.nn as nn\n",
    "import torch.nn.functional as F\n",
    "from torch import optim\n",
    "from torch.utils.data import Dataset, DataLoader\n",
    "\n",
    "from sklearn.metrics import (\n",
    "    accuracy_score, \n",
    "    f1_score, \n",
    "    classification_report\n",
    ")\n",
    "\n",
    "from transformers import (\n",
    "    T5Tokenizer, \n",
    "    T5Model,\n",
    "    T5ForConditionalGeneration,\n",
    "    get_linear_schedule_with_warmup\n",
    ")\n"
   ]
  },
  {
   "cell_type": "code",
   "execution_count": 2,
   "metadata": {
    "colab": {
     "base_uri": "https://localhost:8080/"
    },
    "id": "SAtXbuJF8Rw5",
    "outputId": "49cb1b45-3ff9-463e-9cdf-3318456e5bd5"
   },
   "outputs": [
    {
     "name": "stdout",
     "output_type": "stream",
     "text": [
      "runs on google colab:  False\n",
      "root dir:  .\n"
     ]
    }
   ],
   "source": [
    "# check if running on google colab\n",
    "try:\n",
    "  import google.colab\n",
    "  IS_COLAB = True\n",
    "except:\n",
    "  IS_COLAB = False\n",
    "\n",
    "if IS_COLAB:\n",
    "  # from google.colab import drive\n",
    "  # drive.mount('/content/drive')\n",
    "  # root_dir = '/content/drive/MyDrive/projects/8200bio/Nym/'\n",
    "  # install colab extensions\n",
    "  ! pip3 install transformers\n",
    "  ! pip install sentencepiece\n",
    "  ! pip install gdown\n",
    "# else:\n",
    "#     root_dir = '/home/hagaymi/nym/'\n",
    "root_dir = '.'\n",
    "print(\"runs on google colab: \", IS_COLAB)\n",
    "print(\"root dir: \", root_dir)"
   ]
  },
  {
   "cell_type": "code",
   "execution_count": 3,
   "metadata": {},
   "outputs": [
    {
     "name": "stdout",
     "output_type": "stream",
     "text": [
      "Downloading...\n",
      "From: https://drive.google.com/uc?id=1OZrRN5jLkL73E_ZchJYe0cmNy-WPbj5-\n",
      "To: /home/hagaymi/nym/data.csv\n",
      "100%|██████████████████████████████████████| 11.0M/11.0M [00:00<00:00, 17.6MB/s]\n"
     ]
    }
   ],
   "source": [
    "# download dataset\n",
    "! gdown --id 1OZrRN5jLkL73E_ZchJYe0cmNy-WPbj5-\n"
   ]
  },
  {
   "cell_type": "markdown",
   "metadata": {
    "tags": []
   },
   "source": [
    "## Dataset\n",
    "The dataset contains approx. 2000 transcriptions labled by medical specialty. \\\n",
    "It was provided by Nym during 8200bio challenge (Oct. 2021)"
   ]
  },
  {
   "cell_type": "code",
   "execution_count": 4,
   "metadata": {
    "colab": {
     "base_uri": "https://localhost:8080/",
     "height": 112
    },
    "id": "iFQGl5Wc8jlj",
    "outputId": "1f463495-a190-4a56-eb5a-88387e21ec25"
   },
   "outputs": [
    {
     "data": {
      "text/html": [
       "<div>\n",
       "<style scoped>\n",
       "    .dataframe tbody tr th:only-of-type {\n",
       "        vertical-align: middle;\n",
       "    }\n",
       "\n",
       "    .dataframe tbody tr th {\n",
       "        vertical-align: top;\n",
       "    }\n",
       "\n",
       "    .dataframe thead th {\n",
       "        text-align: right;\n",
       "    }\n",
       "</style>\n",
       "<table border=\"1\" class=\"dataframe\">\n",
       "  <thead>\n",
       "    <tr style=\"text-align: right;\">\n",
       "      <th></th>\n",
       "      <th>transcription</th>\n",
       "      <th>specialty</th>\n",
       "    </tr>\n",
       "  </thead>\n",
       "  <tbody>\n",
       "    <tr>\n",
       "      <th>3409</th>\n",
       "      <td>DISCHARGE DIAGNOSES:,1.  End-stage renal disea...</td>\n",
       "      <td>Nephrology</td>\n",
       "    </tr>\n",
       "    <tr>\n",
       "      <th>1774</th>\n",
       "      <td>PREOPERATIVE DIAGNOSIS:,  Left carpal tunnel s...</td>\n",
       "      <td>Orthopedic</td>\n",
       "    </tr>\n",
       "  </tbody>\n",
       "</table>\n",
       "</div>"
      ],
      "text/plain": [
       "                                          transcription   specialty\n",
       "3409  DISCHARGE DIAGNOSES:,1.  End-stage renal disea...  Nephrology\n",
       "1774  PREOPERATIVE DIAGNOSIS:,  Left carpal tunnel s...  Orthopedic"
      ]
     },
     "execution_count": 4,
     "metadata": {},
     "output_type": "execute_result"
    }
   ],
   "source": [
    "# load raw dataset\n",
    "data = pd.read_csv(os.path.join(root_dir, 'data.csv'))\n",
    "data.sample(2)\n"
   ]
  },
  {
   "cell_type": "code",
   "execution_count": 5,
   "metadata": {
    "colab": {
     "base_uri": "https://localhost:8080/",
     "height": 607
    },
    "id": "cQ0909I18sNG",
    "outputId": "32932340-d338-41a7-f2d4-e3c0d9c0dfab"
   },
   "outputs": [
    {
     "data": {
      "image/png": "[encoded data removed]",
      "text/plain": [
       "<Figure size 360x720 with 1 Axes>"
      ]
     },
     "metadata": {
      "needs_background": "light"
     },
     "output_type": "display_data"
    }
   ],
   "source": [
    "data.specialty.value_counts().plot(kind='barh',figsize=(5, 10), title='Transcriptions in each category' )\n",
    "plt.show()\n"
   ]
  },
  {
   "cell_type": "code",
   "execution_count": 6,
   "metadata": {},
   "outputs": [
    {
     "data": {
      "text/html": [
       "<div>\n",
       "<style scoped>\n",
       "    .dataframe tbody tr th:only-of-type {\n",
       "        vertical-align: middle;\n",
       "    }\n",
       "\n",
       "    .dataframe tbody tr th {\n",
       "        vertical-align: top;\n",
       "    }\n",
       "\n",
       "    .dataframe thead th {\n",
       "        text-align: right;\n",
       "    }\n",
       "</style>\n",
       "<table border=\"1\" class=\"dataframe\">\n",
       "  <thead>\n",
       "    <tr style=\"text-align: right;\">\n",
       "      <th></th>\n",
       "      <th>transcription</th>\n",
       "      <th>0</th>\n",
       "    </tr>\n",
       "  </thead>\n",
       "  <tbody>\n",
       "    <tr>\n",
       "      <th>0</th>\n",
       "      <td>1.  Pelvic tumor.,2.  Cystocele.,3.  Rectocele...</td>\n",
       "      <td>[Obstetrics / Gynecology, Surgery, Urology]</td>\n",
       "    </tr>\n",
       "    <tr>\n",
       "      <th>1</th>\n",
       "      <td>1.  The left ventricular cavity size and wall ...</td>\n",
       "      <td>[Cardiovascular / Pulmonary, Radiology]</td>\n",
       "    </tr>\n",
       "    <tr>\n",
       "      <th>2</th>\n",
       "      <td>2-D ECHOCARDIOGRAM,Multiple views of the heart...</td>\n",
       "      <td>[Cardiovascular / Pulmonary, Radiology]</td>\n",
       "    </tr>\n",
       "    <tr>\n",
       "      <th>3</th>\n",
       "      <td>2-D STUDY,1. Mild aortic stenosis, widely calc...</td>\n",
       "      <td>[Cardiovascular / Pulmonary, Radiology]</td>\n",
       "    </tr>\n",
       "    <tr>\n",
       "      <th>4</th>\n",
       "      <td>3-DIMENSIONAL SIMULATION,This patient is under...</td>\n",
       "      <td>[Hematology - Oncology, Radiology]</td>\n",
       "    </tr>\n",
       "  </tbody>\n",
       "</table>\n",
       "</div>"
      ],
      "text/plain": [
       "                                       transcription  \\\n",
       "0  1.  Pelvic tumor.,2.  Cystocele.,3.  Rectocele...   \n",
       "1  1.  The left ventricular cavity size and wall ...   \n",
       "2  2-D ECHOCARDIOGRAM,Multiple views of the heart...   \n",
       "3  2-D STUDY,1. Mild aortic stenosis, widely calc...   \n",
       "4  3-DIMENSIONAL SIMULATION,This patient is under...   \n",
       "\n",
       "                                             0  \n",
       "0  [Obstetrics / Gynecology, Surgery, Urology]  \n",
       "1      [Cardiovascular / Pulmonary, Radiology]  \n",
       "2      [Cardiovascular / Pulmonary, Radiology]  \n",
       "3      [Cardiovascular / Pulmonary, Radiology]  \n",
       "4           [Hematology - Oncology, Radiology]  "
      ]
     },
     "execution_count": 6,
     "metadata": {},
     "output_type": "execute_result"
    }
   ],
   "source": [
    "df = data.groupby('transcription').apply(lambda x: x['specialty'].values.tolist()).reset_index()\n",
    "df.head()\n"
   ]
  },
  {
   "cell_type": "code",
   "execution_count": 7,
   "metadata": {
    "colab": {
     "base_uri": "https://localhost:8080/",
     "height": 295
    },
    "id": "5RIXMwef8xQr",
    "outputId": "99ea628d-6754-4990-d77f-1febf6b5ba27"
   },
   "outputs": [
    {
     "data": {
      "image/png": "[encoded data removed]",
      "text/plain": [
       "<Figure size 432x288 with 1 Axes>"
      ]
     },
     "metadata": {
      "needs_background": "light"
     },
     "output_type": "display_data"
    }
   ],
   "source": [
    "transcription_counts = data.groupby('transcription').size().value_counts().reset_index()\n",
    "p = sns.barplot(data = transcription_counts, x='index', y=0).set(title='Labels per transcription')\n"
   ]
  },
  {
   "cell_type": "markdown",
   "metadata": {
    "id": "1U4JGRlCV6rU",
    "tags": []
   },
   "source": [
    "## Data Preprocessing"
   ]
  },
  {
   "cell_type": "markdown",
   "metadata": {
    "id": "ypmZbRxV4TFb"
   },
   "source": [
    "We're using the raw transcription concatenated to the task decription: \\\n",
    "`classify specialties:`\n",
    "\n",
    "#### Abstracts\n",
    "- Stripping extra whitespaces around the text.\n",
    "- Replacing escape characters with whitespace.\n",
    "- Padding all punctuations with whitespaces on both sides.\n",
    "\n",
    "#### Labels\n",
    "Each transcription can have multiple lables, while each sample in the raw dataset has one label.\n",
    "We cancel repeatations, and instead attach label list to every transcription.\n",
    "\n"
   ]
  },
  {
   "cell_type": "code",
   "execution_count": 8,
   "metadata": {
    "colab": {
     "base_uri": "https://localhost:8080/",
     "height": 206
    },
    "id": "MD7iAF-f1646",
    "outputId": "5fd03cf6-2c79-47f8-e4b1-85dde3800b74"
   },
   "outputs": [
    {
     "data": {
      "text/html": [
       "<div>\n",
       "<style scoped>\n",
       "    .dataframe tbody tr th:only-of-type {\n",
       "        vertical-align: middle;\n",
       "    }\n",
       "\n",
       "    .dataframe tbody tr th {\n",
       "        vertical-align: top;\n",
       "    }\n",
       "\n",
       "    .dataframe thead th {\n",
       "        text-align: right;\n",
       "    }\n",
       "</style>\n",
       "<table border=\"1\" class=\"dataframe\">\n",
       "  <thead>\n",
       "    <tr style=\"text-align: right;\">\n",
       "      <th></th>\n",
       "      <th>transcription</th>\n",
       "      <th>specialty</th>\n",
       "    </tr>\n",
       "  </thead>\n",
       "  <tbody>\n",
       "    <tr>\n",
       "      <th>0</th>\n",
       "      <td>ADMITTING DIAGNOSIS: , Kawasaki disease.,DISCH...</td>\n",
       "      <td>Allergy / Immunology</td>\n",
       "    </tr>\n",
       "    <tr>\n",
       "      <th>1</th>\n",
       "      <td>CHIEF COMPLAINT: , This 5-year-old male presen...</td>\n",
       "      <td>Allergy / Immunology</td>\n",
       "    </tr>\n",
       "    <tr>\n",
       "      <th>2</th>\n",
       "      <td>HISTORY: , A 34-year-old male presents today s...</td>\n",
       "      <td>Allergy / Immunology</td>\n",
       "    </tr>\n",
       "    <tr>\n",
       "      <th>3</th>\n",
       "      <td>HISTORY:,  I had the pleasure of meeting and e...</td>\n",
       "      <td>Allergy / Immunology</td>\n",
       "    </tr>\n",
       "    <tr>\n",
       "      <th>4</th>\n",
       "      <td>SUBJECTIVE: , This is a 42-year-old white fema...</td>\n",
       "      <td>Allergy / Immunology</td>\n",
       "    </tr>\n",
       "  </tbody>\n",
       "</table>\n",
       "</div>"
      ],
      "text/plain": [
       "                                       transcription             specialty\n",
       "0  ADMITTING DIAGNOSIS: , Kawasaki disease.,DISCH...  Allergy / Immunology\n",
       "1  CHIEF COMPLAINT: , This 5-year-old male presen...  Allergy / Immunology\n",
       "2  HISTORY: , A 34-year-old male presents today s...  Allergy / Immunology\n",
       "3  HISTORY:,  I had the pleasure of meeting and e...  Allergy / Immunology\n",
       "4  SUBJECTIVE: , This is a 42-year-old white fema...  Allergy / Immunology"
      ]
     },
     "execution_count": 8,
     "metadata": {},
     "output_type": "execute_result"
    }
   ],
   "source": [
    "# load data, initial preprocessing\n",
    "data = pd.read_csv(os.path.join(root_dir, 'data.csv'))\n",
    "data.head()"
   ]
  },
  {
   "cell_type": "code",
   "execution_count": 9,
   "metadata": {
    "colab": {
     "base_uri": "https://localhost:8080/"
    },
    "id": "SK1b6b_5v2to",
    "outputId": "9bc27f45-6701-472b-96fb-c07742314946"
   },
   "outputs": [
    {
     "name": "stdout",
     "output_type": "stream",
     "text": [
      "label list:  ['Allergy / Immunology' 'Autopsy' 'Bariatrics'\n",
      " 'Cardiovascular / Pulmonary' 'Cosmetic / Plastic Surgery' 'Dentistry'\n",
      " 'Dermatology' 'ENT - Otolaryngology' 'Emergency Room Reports'\n",
      " 'Endocrinology' 'Gastroenterology' 'General Medicine'\n",
      " 'Hematology - Oncology' 'Hospice - Palliative Care'\n",
      " 'Lab Medicine - Pathology' 'Nephrology' 'Neurology' 'Neurosurgery'\n",
      " 'Obstetrics / Gynecology' 'Office Notes' 'Ophthalmology' 'Orthopedic'\n",
      " 'Pain Management' 'Pediatrics - Neonatal' 'Physical Medicine - Rehab'\n",
      " 'Podiatry' 'Psychiatry / Psychology' 'Radiology' 'Rheumatology'\n",
      " 'Sleep Medicine' 'Surgery' 'Urology' 'speciality']\n",
      "labels dict:  {'Allergy / Immunology': 0, 'allergy / immunology': 0, 'Allergy': 0, 'allergy': 0, 'Immunology': 0, 'immunology': 0, 'Allergy/Immunology': 0, 'allergy/immunology': 0, 'Autopsy': 1, 'autopsy': 1, 'Bariatrics': 2, 'bariatrics': 2, 'Cardiovascular / Pulmonary': 3, 'cardiovascular / pulmonary': 3, 'Cardiovascular': 3, 'cardiovascular': 3, 'Pulmonary': 3, 'pulmonary': 3, 'Cardiovascular/Pulmonary': 3, 'cardiovascular/pulmonary': 3, 'Cosmetic / Plastic Surgery': 4, 'cosmetic / plastic surgery': 4, 'Cosmetic': 4, 'cosmetic': 4, 'Plastic Surgery': 4, 'plastic surgery': 4, 'Cosmetic/PlasticSurgery': 4, 'cosmetic/plasticsurgery': 4, 'Dentistry': 5, 'dentistry': 5, 'Dermatology': 6, 'dermatology': 6, 'ENT - Otolaryngology': 7, 'ent - otolaryngology': 7, 'ENT-Otolaryngology': 7, 'ent-otolaryngology': 7, 'Emergency Room Reports': 8, 'emergency room reports': 8, 'EmergencyRoomReports': 8, 'emergencyroomreports': 8, 'Endocrinology': 9, 'endocrinology': 9, 'Gastroenterology': 10, 'gastroenterology': 10, 'General Medicine': 11, 'general medicine': 11, 'GeneralMedicine': 11, 'generalmedicine': 11, 'Hematology - Oncology': 12, 'hematology - oncology': 12, 'Hematology-Oncology': 12, 'hematology-oncology': 12, 'Hospice - Palliative Care': 13, 'hospice - palliative care': 13, 'Hospice-PalliativeCare': 13, 'hospice-palliativecare': 13, 'Lab Medicine - Pathology': 14, 'lab medicine - pathology': 14, 'LabMedicine-Pathology': 14, 'labmedicine-pathology': 14, 'Nephrology': 15, 'nephrology': 15, 'Neurology': 16, 'neurology': 16, 'Neurosurgery': 17, 'neurosurgery': 17, 'Obstetrics / Gynecology': 18, 'obstetrics / gynecology': 18, 'Obstetrics': 18, 'obstetrics': 18, 'Gynecology': 18, 'gynecology': 18, 'Obstetrics/Gynecology': 18, 'obstetrics/gynecology': 18, 'Office Notes': 19, 'office notes': 19, 'OfficeNotes': 19, 'officenotes': 19, 'Ophthalmology': 20, 'ophthalmology': 20, 'Orthopedic': 21, 'orthopedic': 21, 'Pain Management': 22, 'pain management': 22, 'PainManagement': 22, 'painmanagement': 22, 'Pediatrics - Neonatal': 23, 'pediatrics - neonatal': 23, 'Pediatrics-Neonatal': 23, 'pediatrics-neonatal': 23, 'Physical Medicine - Rehab': 24, 'physical medicine - rehab': 24, 'PhysicalMedicine-Rehab': 24, 'physicalmedicine-rehab': 24, 'Podiatry': 25, 'podiatry': 25, 'Psychiatry / Psychology': 26, 'psychiatry / psychology': 26, 'Psychiatry': 26, 'psychiatry': 26, 'Psychology': 26, 'psychology': 26, 'Psychiatry/Psychology': 26, 'psychiatry/psychology': 26, 'Radiology': 27, 'radiology': 27, 'Rheumatology': 28, 'rheumatology': 28, 'Sleep Medicine': 29, 'sleep medicine': 29, 'SleepMedicine': 29, 'sleepmedicine': 29, 'Surgery': 30, 'surgery': 30, 'Urology': 31, 'urology': 31, 'speciality': 32}\n"
     ]
    }
   ],
   "source": [
    "# fetch all labels\n",
    "labels_list = data['specialty'].unique()\n",
    "print(\"label list: \", labels_list)\n",
    "\n",
    "# set labels lower case. for options like 'Allergy / Immunology'\n",
    "# allow \"partial labels\" (e.g. 'Allergy'  'Immunology') \n",
    "labels_li_indices = dict()\n",
    "\n",
    "for idx, label in enumerate(labels_list):\n",
    "    labels_li_indices[label] = idx\n",
    "    labels_li_indices[label.lower()] = idx\n",
    "    if ' / ' in label:\n",
    "        for l in label.split(' / '):\n",
    "            labels_li_indices[l] = idx\n",
    "            labels_li_indices[l.lower()] = idx\n",
    "    labels_li_indices[label.replace(' ', '')] = idx\n",
    "    labels_li_indices[label.lower().replace(' ', '')] = idx\n",
    "    \n",
    "          \n",
    "print(\"labels dict: \", labels_li_indices)\n"
   ]
  },
  {
   "cell_type": "code",
   "execution_count": 10,
   "metadata": {
    "colab": {
     "base_uri": "https://localhost:8080/",
     "height": 206
    },
    "id": "XhFmT7jQk5oa",
    "outputId": "defdacd4-57b9-4caa-fcd6-3edfe8e56d56"
   },
   "outputs": [
    {
     "data": {
      "text/html": [
       "<div>\n",
       "<style scoped>\n",
       "    .dataframe tbody tr th:only-of-type {\n",
       "        vertical-align: middle;\n",
       "    }\n",
       "\n",
       "    .dataframe tbody tr th {\n",
       "        vertical-align: top;\n",
       "    }\n",
       "\n",
       "    .dataframe thead th {\n",
       "        text-align: right;\n",
       "    }\n",
       "</style>\n",
       "<table border=\"1\" class=\"dataframe\">\n",
       "  <thead>\n",
       "    <tr style=\"text-align: right;\">\n",
       "      <th></th>\n",
       "      <th>transcription</th>\n",
       "      <th>0</th>\n",
       "    </tr>\n",
       "  </thead>\n",
       "  <tbody>\n",
       "    <tr>\n",
       "      <th>0</th>\n",
       "      <td>1.  Pelvic tumor.,2.  Cystocele.,3.  Rectocele...</td>\n",
       "      <td>[Obstetrics / Gynecology, Surgery, Urology]</td>\n",
       "    </tr>\n",
       "    <tr>\n",
       "      <th>1</th>\n",
       "      <td>1.  The left ventricular cavity size and wall ...</td>\n",
       "      <td>[Cardiovascular / Pulmonary, Radiology]</td>\n",
       "    </tr>\n",
       "    <tr>\n",
       "      <th>2</th>\n",
       "      <td>2-D ECHOCARDIOGRAM,Multiple views of the heart...</td>\n",
       "      <td>[Cardiovascular / Pulmonary, Radiology]</td>\n",
       "    </tr>\n",
       "    <tr>\n",
       "      <th>3</th>\n",
       "      <td>2-D STUDY,1. Mild aortic stenosis, widely calc...</td>\n",
       "      <td>[Cardiovascular / Pulmonary, Radiology]</td>\n",
       "    </tr>\n",
       "    <tr>\n",
       "      <th>4</th>\n",
       "      <td>3-DIMENSIONAL SIMULATION,This patient is under...</td>\n",
       "      <td>[Hematology - Oncology, Radiology]</td>\n",
       "    </tr>\n",
       "  </tbody>\n",
       "</table>\n",
       "</div>"
      ],
      "text/plain": [
       "                                       transcription  \\\n",
       "0  1.  Pelvic tumor.,2.  Cystocele.,3.  Rectocele...   \n",
       "1  1.  The left ventricular cavity size and wall ...   \n",
       "2  2-D ECHOCARDIOGRAM,Multiple views of the heart...   \n",
       "3  2-D STUDY,1. Mild aortic stenosis, widely calc...   \n",
       "4  3-DIMENSIONAL SIMULATION,This patient is under...   \n",
       "\n",
       "                                             0  \n",
       "0  [Obstetrics / Gynecology, Surgery, Urology]  \n",
       "1      [Cardiovascular / Pulmonary, Radiology]  \n",
       "2      [Cardiovascular / Pulmonary, Radiology]  \n",
       "3      [Cardiovascular / Pulmonary, Radiology]  \n",
       "4           [Hematology - Oncology, Radiology]  "
      ]
     },
     "execution_count": 10,
     "metadata": {},
     "output_type": "execute_result"
    }
   ],
   "source": [
    "# unify duplicated text and set label list\n",
    "train_df = data.groupby('transcription').apply(lambda x: x['specialty'].values.tolist()).reset_index()\n",
    "train_df.head()\n"
   ]
  },
  {
   "cell_type": "code",
   "execution_count": 11,
   "metadata": {
    "colab": {
     "base_uri": "https://localhost:8080/"
    },
    "id": "6fTMIgN3XrPc",
    "outputId": "62f0ed25-23c8-4456-cde2-243d854e72cc"
   },
   "outputs": [
    {
     "name": "stdout",
     "output_type": "stream",
     "text": [
      "TEXT -\tclassify specialties: 1 .  Pelvic tumor .  , 2 .  Cystocele .  , 3 .  Rectocele .  , POSTOPERATIVE DIAGNOSES: , 1 .  Degenerated joint .  , 2 .  Uterine fibroid .  , 3 .  Cystocele .  , 4 .  Rectocele .  , PROCEDURE PERFORMED:  , 1 .  Total abdominal hysterectomy .  , 2 .  Bilateral salpingooophorectomy .  , 3 .  Repair of bladder laceration .  , 4 .  Appendectomy .  , 5 .  Marshall-Marchetti-Krantz cystourethropexy .  , 6 .  Posterior colpoperineoplasty .  , GROSS FINDINGS: The patient had a history of a rapidly growing mass on the abdomen ,  extending from the pelvis over the past two to three months .  She had a recent D&C and laparoscopy ,  and enlarged mass was noted and could not be determined if it was from the ovary or the uterus .  Curettings were negative for malignancy .  The patient did have a large cystocele and rectocele ,  and a collapsed anterior and posterior vaginal wall .  , Upon laparotomy ,  there was a giant uterine tumor extending from the pelvis up to the above the umbilicus compatible with approximately four to five-month pregnancy .  The ovaries appeared to be within normal limits .  There was marked adherence between the bladder and the giant uterus and mass with edema and inflammation ,  and during dissection ,  a laceration inadvertently occurred and it was immediately recognized .  No other pathology noted from the abdominal cavity or adhesions .  The upper right quadrant of the abdomen compatible with a previous gallbladder surgery .  The appendix is in its normal anatomic position .  The ileum was within normal limits with no Meckel's diverticulum seen and no other gross pathology evident .  There was no evidence of metastasis or tumors in the left lobe of the liver .  , Upon frozen section ,  diagnosis of initial and partial is that of a degenerating uterine fibroid rather than a malignancy .  , OPERATIVE PROCEDURE: The patient was taken to the Operating Room ,  prepped and draped in the low lithotomy position under general anesthesia .  A midline incision was made around the umbilicus down to the lower abdomen .  With a #10 Bard Parker blade knife ,  the incision was carried down through the fascia .  The fascia was incised in the midline ,  muscle fibers were splint in the midline ,  the peritoneum was grasped with hemostats and with a #10 Bard Parker blade after incision was made with Mayo scissors .  A Balfour retractor was placed into the wound .  This giant uterus was soft and compatible with a possible leiomyosarcoma or degenerating fibroid was handled with care .  The infundibular ligament on the right side was isolated and ligated with #0 Vicryl suture brought to an avascular area ,  doubly clamped and divided from the ovary and the ligament again re-ligated with #0 Vicryl suture .  The right round ligament was ligated with #0 Vicryl suture ,  brought to an avascular space within the broad ligament and divided from the uterus .  The infundibulopelvic ligament on the left side was treated in a similar fashion as well as the round ligament .  An attempt was made to dissect the bladder flap from the anterior surface of the uterus and this was remarkably edematous and difficult to do ,  and during dissection the bladder was inadvertently entered .  After this was immediately recognized ,  the bladder flap was wiped away from the anterior surface of the uterus .  The bladder was then repaired with a running locking stitch #0 Vicryl suture incorporating serosal muscularis mucosa and then the second layer of overlapping seromuscular sutures were used to make a two-layer closure of #0 Vicryl suture .  After removing the uterus ,  the bladder was tested with approximately 400 cc of sterile water and there appeared to be no leak .  Progressing and removing of the uterus was then carried out and the broad ligament was clamped bilaterally with a straight Ochsner forceps and divided from the uterus with Mayo scissors ,  and the straight Ochsner was placed by #0 Vicryl suture thus controlling the uterine blood supply .  The cardinal ligaments containing the cervical blood supply was serially clamped bilaterally with a curved Ochsner forceps ,  divided from the uterus with #10 Bard Parker blade knife and a curved Ochsner was placed by #0 Vicryl suture .  The cervix was again grasped with a Lahey tenaculum and pubovesicocervical ligament was entered and was divided using #10 Bard Parker blade knife and then the vaginal vault and with a double pointed sharp scissors .  A single-toothed tenaculum was placed on the cervix and then the uterus was removed from the vagina using hysterectomy scissors .  The vaginal cuff was then closed using a running #0 Vicryl suture in locking stitch incorporating all layers of the vagina ,  the cardinal ligaments of the lateral aspect and uterosacral ligaments on the posterior aspect .  The round ligaments were approximated to the vaginal cuff with #0 Vicryl suture and the bladder flap approximated to the round ligaments with #000 Vicryl suture .  The ______ was re-peritonealized with #000 Vicryl suture and then the cecum brought into the incision .  The pelvis was irrigated with approximately 500 cc of water .  The appendix was grasped with Babcock forceps .  The mesoappendix was doubly clamped with curved hemostats and divided with Metzenbaum scissors .  The curved hemostats were placed with #00 Vicryl suture .  The base of the appendix was ligated with #0 plain gut suture ,  doubly clamped and divided from the distal appendix with #10 Bard Parker blade knife ,  and the base inverted with a pursestring suture with #00 Vicryl .  No bleeding was noted .  Sponge ,  instrument ,  and needle counts were found to be correct .  All packs and retractors were removed .  The peritoneum muscle fascia was closed in single-layer closure using running looped #1 PDS ,  but prior to closure ,  a Marshall-Marchetti-Krantz cystourethropexy was carried out by dissecting the space of Retzius identifying the urethra in the vesical junction approximating the periurethral connective tissue to the symphysis pubis with interrupted #0 Vicryl suture .  Following this ,  the abdominal wall was closed as previously described and the skin was closed using skin staples .  Attention was then turned to the vagina ,  where the introitus of the vagina was grasped with an Allis forceps at the level of the Bartholin glands .  An incision was made between the mucous and the cutaneous junction and then a midline incision was made at the posterior vaginal mucosa in a tunneling fashion with Metzenbaum scissors .  The flaps were created bilaterally by making an incision in the posterior connective tissue of the vagina and wiping the rectum away from the posterior vaginal mucosa ,  and flaps were created bilaterally .  In this fashion ,  the rectocele was reduced and the levator ani muscles were approximated in the midline with interrupted #0 Vicryl suture .  Excess vaginal mucosa was excised and the vaginal mucosa closed with running #00 Vicryl suture .  The bulbocavernosus and transverse perinei muscles were approximated in the midline with interrupted #00 Vicryl suture .  The skin was closed with a running #000 plain gut subcuticular stitch .  The vaginal vault was packed with a Betadine-soaked Kling gauze sponge .  Sterile dressing was applied .  The patient was sent to recovery room in stable condition . \n",
      "LABEL -\tObstetrics / Gynecology, Surgery, Urology\n",
      "\n",
      "TEXT -\tclassify specialties: 1 .  The left ventricular cavity size and wall thickness appear normal .  The wall motion and left ventricular systolic function appears hyperdynamic with estimated ejection fraction of 70% to 75% .  There is near-cavity obliteration seen .  There also appears to be increased left ventricular outflow tract gradient at the mid cavity level consistent with hyperdynamic left ventricular systolic function .  There is abnormal left ventricular relaxation pattern seen as well as elevated left atrial pressures seen by Doppler examination .  , 2 .  The left atrium appears mildly dilated .  , 3 .  The right atrium and right ventricle appear normal .  , 4 .  The aortic root appears normal .  , 5 .  The aortic valve appears calcified with mild aortic valve stenosis ,  calculated aortic valve area is 1 . 3 cm square with a maximum instantaneous gradient of 34 and a mean gradient of 19 mm .  , 6 .  There is mitral annular calcification extending to leaflets and supportive structures with thickening of mitral valve leaflets with mild mitral regurgitation .  , 7 .  The tricuspid valve appears normal with trace tricuspid regurgitation with moderate pulmonary artery hypertension .  Estimated pulmonary artery systolic pressure is 49 mmHg .  Estimated right atrial pressure of 10 mmHg .  , 8 .  The pulmonary valve appears normal with trace pulmonary insufficiency .  , 9 .  There is no pericardial effusion or intracardiac mass seen .  , 10 .  There is a color Doppler suggestive of a patent foramen ovale with lipomatous hypertrophy of the interatrial septum .  , 11 .  The study was somewhat technically limited and hence subtle abnormalities could be missed from the study .  , \n",
      "LABEL -\tCardiovascular / Pulmonary, Radiology\n",
      "\n"
     ]
    }
   ],
   "source": [
    "# preprocessing\n",
    "def clean_abstract(text):\n",
    "    text = text.split()\n",
    "    text = [x.strip() for x in text]\n",
    "    text = [x.replace('\\n', ' ').replace('\\t', ' ') for x in text]\n",
    "    text = ' '.join(text)\n",
    "    text = re.sub('([.,!?()])', r' \\1 ', text)\n",
    "    return text\n",
    "    \n",
    "\n",
    "def get_texts(df):\n",
    "    # texts = 'multilabel classification: ' + df['ABSTRACT'].apply(clean_abstract)\n",
    "    texts = 'classify specialties: ' + df['transcription'].apply(clean_abstract)\n",
    "    texts = texts.values.tolist()\n",
    "    return texts\n",
    "\n",
    "\n",
    "def get_labels(df):\n",
    "    labels = df[0].apply(', '.join)\n",
    "    labels = labels.values.tolist()\n",
    "\n",
    "    # labels =  \n",
    "    return labels\n",
    "\n",
    "\n",
    "texts = get_texts(train_df)\n",
    "labels = get_labels(train_df)\n",
    "\n",
    "for text, label in zip(texts[:2], labels[:2]):\n",
    "    print(f'TEXT -\\t{text}')\n",
    "    print(f'LABEL -\\t{label}')\n",
    "    print()"
   ]
  },
  {
   "cell_type": "markdown",
   "metadata": {
    "id": "aT9k73IR-cXi",
    "tags": []
   },
   "source": [
    "## Exploratory Data Analysis"
   ]
  },
  {
   "cell_type": "code",
   "execution_count": 12,
   "metadata": {
    "colab": {
     "base_uri": "https://localhost:8080/",
     "height": 341
    },
    "id": "8TUCM-pH_vkj",
    "outputId": "cbf370da-011e-4d69-f067-80f60520dd3f"
   },
   "outputs": [
    {
     "data": {
      "text/plain": [
       "(array([262., 582., 493., 335., 195.,  99.,  52.,  28.,  10.,  11.,   4.,\n",
       "          3.,   0.,   1.,   1.]),\n",
       " array([   3.        ,  201.13333333,  399.26666667,  597.4       ,\n",
       "         795.53333333,  993.66666667, 1191.8       , 1389.93333333,\n",
       "        1588.06666667, 1786.2       , 1984.33333333, 2182.46666667,\n",
       "        2380.6       , 2578.73333333, 2776.86666667, 2975.        ]),\n",
       " <BarContainer object of 15 artists>)"
      ]
     },
     "execution_count": 12,
     "metadata": {},
     "output_type": "execute_result"
    },
    {
     "data": {
      "image/png": "[encoded data removed]",
      "text/plain": [
       "<Figure size 432x288 with 1 Axes>"
      ]
     },
     "metadata": {
      "needs_background": "light"
     },
     "output_type": "display_data"
    }
   ],
   "source": [
    "# text lengths\n",
    "y = [len(t.split()) for t in texts]\n",
    "x = range(0, len(y))\n",
    "plt.hist(y, bins=15)"
   ]
  },
  {
   "cell_type": "code",
   "execution_count": 13,
   "metadata": {
    "colab": {
     "base_uri": "https://localhost:8080/",
     "height": 321
    },
    "id": "TQ3KAWVQmDhU",
    "outputId": "5a143e9e-412f-41d9-f359-4b1d4f78f0ce"
   },
   "outputs": [
    {
     "data": {
      "text/plain": [
       "(array([298., 750., 387., 458.,  84.,  59.,  31.,   5.,   3.,   1.]),\n",
       " array([ 1. ,  1.9,  2.8,  3.7,  4.6,  5.5,  6.4,  7.3,  8.2,  9.1, 10. ]),\n",
       " <BarContainer object of 10 artists>)"
      ]
     },
     "execution_count": 13,
     "metadata": {},
     "output_type": "execute_result"
    },
    {
     "data": {
      "image/png": "[encoded data removed]",
      "text/plain": [
       "<Figure size 432x288 with 1 Axes>"
      ]
     },
     "metadata": {
      "needs_background": "light"
     },
     "output_type": "display_data"
    }
   ],
   "source": [
    "# label lengths\n",
    "y = [len(l.split()) for l in labels]\n",
    "x = range(0, len(y))\n",
    "plt.hist(y)"
   ]
  },
  {
   "cell_type": "markdown",
   "metadata": {
    "id": "5dp75He4ASYG"
   },
   "source": [
    "\n",
    "We chose 512 for **src MAX_LENGTH** and 16 for **tgt MAX_LENGTH** \n",
    "- src - transcription \n",
    "- tgt - labels (specialties)\n"
   ]
  },
  {
   "cell_type": "markdown",
   "metadata": {
    "id": "ZZI7LZDlAdLX",
    "tags": []
   },
   "source": [
    "## Config\n",
    "Class defining hyper paramters, etc."
   ]
  },
  {
   "cell_type": "code",
   "execution_count": 14,
   "metadata": {
    "id": "F5MG2LCST-Co"
   },
   "outputs": [],
   "source": [
    "# # small x1\n",
    "# class Config:\n",
    "#     def __init__(self):\n",
    "#         super(Config, self).__init__()\n",
    "\n",
    "#         self.SEED = 42\n",
    "#         self.MODEL_PATH = 't5-small'\n",
    "\n",
    "#         # data\n",
    "#         self.TOKENIZER = T5Tokenizer.from_pretrained(self.MODEL_PATH)\n",
    "#         self.SRC_MAX_LENGTH = 512\n",
    "#         self.TGT_MAX_LENGTH = 16\n",
    "#         self.BATCH_SIZE = 16\n",
    "#         self.VALIDATION_SPLIT = 0.25\n",
    "\n",
    "#         # model\n",
    "#         self.DEVICE = torch.device('cuda' if torch.cuda.is_available() else 'cpu')\n",
    "#         self.FULL_FINETUNING = True\n",
    "#         self.LR = 3e-5\n",
    "#         self.OPTIMIZER = 'AdamW'\n",
    "#         self.CRITERION = 'BCEWithLogitsLoss'\n",
    "#         self.SAVE_BEST_ONLY = True\n",
    "#         self.N_VALIDATE_DUR_TRAIN = 1\n",
    "#         self.EPOCHS = 20\n",
    "\n",
    "# base x1\n",
    "class Config:\n",
    "    def __init__(self):\n",
    "        super(Config, self).__init__()\n",
    "\n",
    "        self.SEED = 42\n",
    "        self.MODEL_PATH = 't5-base'\n",
    "\n",
    "        # data\n",
    "        self.TOKENIZER = T5Tokenizer.from_pretrained(self.MODEL_PATH)\n",
    "        self.SRC_MAX_LENGTH = 512\n",
    "        self.TGT_MAX_LENGTH = 16\n",
    "        self.BATCH_SIZE = 1\n",
    "        self.GRAD_ACCUM = 1\n",
    "        self.VALIDATION_SPLIT = 0.2\n",
    "        \n",
    "\n",
    "        # model\n",
    "        self.DEVICE = torch.device('cuda' if torch.cuda.is_available() else 'cpu')\n",
    "        self.FULL_FINETUNING = True\n",
    "        self.LR = 3e-5\n",
    "        self.OPTIMIZER = 'AdamW'\n",
    "        self.CRITERION = 'BCEWithLogitsLoss'\n",
    "        self.SAVE_BEST_ONLY = True\n",
    "        self.N_VALIDATE_DUR_TRAIN = 1\n",
    "        self.EPOCHS = 20\n",
    "\n",
    "config = Config()"
   ]
  },
  {
   "cell_type": "markdown",
   "metadata": {
    "id": "e1AhmXnXByg5",
    "tags": []
   },
   "source": [
    "## Dataset & Dataloader"
   ]
  },
  {
   "cell_type": "markdown",
   "metadata": {
    "id": "cwrzxPV8B1Es"
   },
   "source": [
    "create a custom Dataset class using PyTorch Dataset class. We'll be using the **T5 tokenizer** that returns **input_ids** and **attention_mask**.\\\n",
    "The custom Dataset class will return a dict containing - <br>\n",
    "\n",
    "- src_input_ids\n",
    "- src_attention_mask\n",
    "- tgt_input_ids\n",
    "- tgt_attention_mask"
   ]
  },
  {
   "cell_type": "code",
   "execution_count": 15,
   "metadata": {
    "id": "62kL6XSQUon-"
   },
   "outputs": [],
   "source": [
    "class T5Dataset(Dataset):\n",
    "    def __init__(self, df, indices, set_type=None):\n",
    "        super(T5Dataset, self).__init__()\n",
    "\n",
    "        df = df.iloc[indices]\n",
    "        self.texts = get_texts(df)\n",
    "        self.set_type = set_type\n",
    "        if self.set_type != 'test':\n",
    "            self.labels = get_labels(df)\n",
    "\n",
    "        self.tokenizer = config.TOKENIZER\n",
    "        self.src_max_length = config.SRC_MAX_LENGTH\n",
    "        self.tgt_max_length = config.TGT_MAX_LENGTH\n",
    "\n",
    "    def __len__(self):\n",
    "        return len(self.texts)\n",
    "    \n",
    "    def __getitem__(self, index):\n",
    "        src_tokenized = self.tokenizer.encode_plus(\n",
    "            self.texts[index], \n",
    "            max_length=self.src_max_length,\n",
    "            padding='max_length',\n",
    "            truncation=True,\n",
    "            return_attention_mask=True,\n",
    "            return_token_type_ids=False,\n",
    "            return_tensors='pt'\n",
    "        )\n",
    "        src_input_ids = src_tokenized['input_ids'].squeeze()\n",
    "        src_attention_mask = src_tokenized['attention_mask'].squeeze()\n",
    "\n",
    "        if self.set_type != 'test':\n",
    "            tgt_tokenized = self.tokenizer.encode_plus(\n",
    "                self.labels[index], \n",
    "                max_length=self.tgt_max_length,\n",
    "                # pad_to_max_length=True,\n",
    "                padding='max_length',\n",
    "                truncation=True,\n",
    "                return_attention_mask=True,\n",
    "                return_token_type_ids=False,\n",
    "                return_tensors='pt'\n",
    "            )\n",
    "            tgt_input_ids = tgt_tokenized['input_ids'].squeeze()\n",
    "            tgt_attention_mask = tgt_tokenized['attention_mask'].squeeze()\n",
    "\n",
    "            return {\n",
    "                'src_input_ids': src_input_ids.long(),\n",
    "                'src_attention_mask': src_attention_mask.long(),\n",
    "                'tgt_input_ids': tgt_input_ids.long(),\n",
    "                'tgt_attention_mask': tgt_attention_mask.long()\n",
    "            }\n",
    "\n",
    "        return {\n",
    "            'src_input_ids': src_input_ids.long(),\n",
    "            'src_attention_mask': src_attention_mask.long()\n",
    "        }"
   ]
  },
  {
   "cell_type": "markdown",
   "metadata": {
    "id": "xxKmWbIICgWv"
   },
   "source": [
    "**T5Dataset** Class takes as input the **dataframe**, **indices** & **set_type**. \n",
    "We use indices list to split train / val sets."
   ]
  },
  {
   "cell_type": "code",
   "execution_count": 16,
   "metadata": {
    "id": "xkGLwcZ0f732"
   },
   "outputs": [],
   "source": [
    "# train-val split\n",
    "\n",
    "np.random.seed(config.SEED)\n",
    "\n",
    "dataset_size = len(train_df)\n",
    "indices = list(range(dataset_size))\n",
    "split = int(np.floor(config.VALIDATION_SPLIT * dataset_size))\n",
    "np.random.shuffle(indices)\n",
    "\n",
    "train_indices, val_indices = indices[split:], indices[:split]"
   ]
  },
  {
   "cell_type": "markdown",
   "metadata": {
    "id": "OslH-HOECxRO"
   },
   "source": [
    "Here we'll initialize PyTorch DataLoader objects for the training & validation data.<br>\n",
    "These dataloaders allow us to iterate over them during training, validation or testing and return a batch of the Dataset class outputs."
   ]
  },
  {
   "cell_type": "code",
   "execution_count": 17,
   "metadata": {
    "colab": {
     "base_uri": "https://localhost:8080/"
    },
    "id": "0mnuNOKmkc1R",
    "outputId": "196a52a7-87da-4b58-833c-5c91d7f5330a"
   },
   "outputs": [
    {
     "name": "stdout",
     "output_type": "stream",
     "text": [
      "src_input_ids shape: torch.Size([1, 512])\n",
      "src_attention_mask shape: torch.Size([1, 512])\n",
      "tgt_input_ids shape: torch.Size([1, 16])\n",
      "tgt_attention_mask shape: torch.Size([1, 16])\n"
     ]
    }
   ],
   "source": [
    "train_data = T5Dataset(train_df, train_indices)\n",
    "val_data = T5Dataset(train_df, val_indices)\n",
    "\n",
    "train_dataloader = DataLoader(train_data, batch_size=config.BATCH_SIZE, shuffle=True)\n",
    "val_dataloader = DataLoader(val_data, batch_size=config.BATCH_SIZE)\n",
    "\n",
    "b = next(iter(train_dataloader))\n",
    "for k, v in b.items():\n",
    "    print(f'{k} shape: {v.shape}')"
   ]
  },
  {
   "cell_type": "markdown",
   "metadata": {
    "id": "feB5OEdeoV91",
    "tags": []
   },
   "source": [
    "## Model\n",
    "Our model uses pretrained T5 model with a Conditional Generation Head, from Huggingface transformers library."
   ]
  },
  {
   "cell_type": "code",
   "execution_count": 18,
   "metadata": {
    "id": "d1xG8CCdlgge"
   },
   "outputs": [],
   "source": [
    "class T5Model(nn.Module):\n",
    "    def __init__(self):\n",
    "        super(T5Model, self).__init__()\n",
    "\n",
    "        self.t5_model = T5ForConditionalGeneration.from_pretrained(config.MODEL_PATH)\n",
    "\n",
    "    def forward(\n",
    "        self,\n",
    "        input_ids, \n",
    "        attention_mask=None, \n",
    "        decoder_input_ids=None, \n",
    "        decoder_attention_mask=None, \n",
    "        lm_labels=None\n",
    "        ):\n",
    "\n",
    "        return self.t5_model(\n",
    "            input_ids,\n",
    "            attention_mask=attention_mask,\n",
    "            decoder_input_ids=decoder_input_ids,\n",
    "            decoder_attention_mask=decoder_attention_mask,\n",
    "            # lm_labels=lm_labels,\n",
    "            labels=lm_labels,\n",
    "        )"
   ]
  },
  {
   "cell_type": "code",
   "execution_count": 20,
   "metadata": {
    "colab": {
     "base_uri": "https://localhost:8080/"
    },
    "id": "jiypz6jrG9bl",
    "outputId": "bd790819-dfe4-41c2-9074-375acd96e2e2"
   },
   "outputs": [
    {
     "data": {
      "text/plain": [
       "device(type='cuda')"
      ]
     },
     "execution_count": 20,
     "metadata": {},
     "output_type": "execute_result"
    }
   ],
   "source": [
    "device = config.DEVICE\n",
    "device"
   ]
  },
  {
   "cell_type": "markdown",
   "metadata": {
    "id": "O5LkYPeTqpDP",
    "tags": []
   },
   "source": [
    "## Engine"
   ]
  },
  {
   "cell_type": "markdown",
   "metadata": {
    "id": "bKZQM2E2DnjO"
   },
   "source": [
    "Our engine consists of the training and validation step functions."
   ]
  },
  {
   "cell_type": "code",
   "execution_count": 21,
   "metadata": {
    "id": "xi7ZrcylE18g"
   },
   "outputs": [],
   "source": [
    "\n",
    "def get_ohe(x):\n",
    "    clean_x = [xl.replace('<pad>', '').replace('</s>', '').replace(' ', '') for xl in x]\n",
    "    y = [labels.split(',') for labels in clean_x]\n",
    "    ohe = []\n",
    "    for labels in y:\n",
    "        # print(\"predicted labels: \", labels)\n",
    "        temp = [0] * len(labels_list)\n",
    "        for label in labels:\n",
    "            idx = labels_li_indices.get(label.lower(), -1)\n",
    "            # print(\"label: \", label, \"idx: \", idx)\n",
    "            if idx != -1:\n",
    "                temp[idx] = 1\n",
    "        ohe.append(temp)\n",
    "    ohe = np.array(ohe)\n",
    "    return ohe\n"
   ]
  },
  {
   "cell_type": "markdown",
   "metadata": {},
   "source": [
    "We use F1 score for evaluation. We calculate both micro and macro, but our target is to maximize macro f1, which gives equal weight to rare and common specialties. \\\n",
    "Since the dataset is highly imbalanced, we may see large difference between the two metrics.\n"
   ]
  },
  {
   "cell_type": "code",
   "execution_count": 37,
   "metadata": {
    "id": "HG9J7OFEDsSB"
   },
   "outputs": [],
   "source": [
    "def val(model, val_dataloader, criterion, label_stats=False):\n",
    "    \n",
    "    val_loss = 0\n",
    "    true, pred = [], []\n",
    "    \n",
    "    # set model.eval() every time during evaluation\n",
    "    model.eval()\n",
    "    \n",
    "    for step, batch in enumerate(val_dataloader):\n",
    "        # unpack the batch contents and push them to the device (cuda or cpu).\n",
    "        b_src_input_ids = batch['src_input_ids'].to(device)\n",
    "        b_src_attention_mask = batch['src_attention_mask'].to(device)\n",
    "    \n",
    "        b_tgt_input_ids = batch['tgt_input_ids']\n",
    "        lm_labels = b_tgt_input_ids.to(device)\n",
    "        lm_labels[lm_labels[:, :] == config.TOKENIZER.pad_token_id] = -100\n",
    "\n",
    "        b_tgt_attention_mask = batch['tgt_attention_mask'].to(device)\n",
    "\n",
    "        # using torch.no_grad() during validation/inference is faster -\n",
    "        # - since it does not update gradients.\n",
    "        with torch.no_grad():\n",
    "            # forward pass\n",
    "            outputs = model(\n",
    "                input_ids=b_src_input_ids, \n",
    "                attention_mask=b_src_attention_mask,\n",
    "                lm_labels=lm_labels,\n",
    "                decoder_attention_mask=b_tgt_attention_mask)\n",
    "            loss = outputs[0]\n",
    "\n",
    "            val_loss += loss.item()\n",
    "\n",
    "            # get true \n",
    "            for true_id in b_tgt_input_ids:\n",
    "                true_decoded = config.TOKENIZER.decode(true_id)\n",
    "                true.append(true_decoded)\n",
    "\n",
    "            # get pred (decoder generated textual label ids)\n",
    "            pred_ids = model.t5_model.generate(\n",
    "                input_ids=b_src_input_ids, \n",
    "                attention_mask=b_src_attention_mask\n",
    "            )\n",
    "            pred_ids = pred_ids.cpu().numpy()\n",
    "            for pred_id in pred_ids:\n",
    "                pred_decoded = config.TOKENIZER.decode(pred_id)\n",
    "                pred.append(pred_decoded)\n",
    "\n",
    "    true_ohe = get_ohe(true)\n",
    "    pred_ohe = get_ohe(pred)\n",
    "    \n",
    "    if label_stats:\n",
    "        true_count = np.sum(true_ohe, axis=0)\n",
    "        pred_count = np.sum(pred_ohe, axis=0)\n",
    "        labels = [i for i in range(len(true_count))]\n",
    "        plt.bar(labels, true_count, label='true specialties count')\n",
    "        plt.bar(labels, pred_count, label='pred specialties count')\n",
    "\n",
    "    avg_val_loss = val_loss / len(val_dataloader)\n",
    "    print('Val loss:', avg_val_loss)\n",
    "    print('Val accuracy:', accuracy_score(true_ohe, pred_ohe))\n",
    "\n",
    "    val_micro_f1_score = f1_score(true_ohe, pred_ohe, average='micro')\n",
    "    val_macro_f1_score = f1_score(true_ohe, pred_ohe, average='macro')\n",
    "    print('Val micro f1 score:', val_micro_f1_score)\n",
    "    print('Val macro f1 score:', val_macro_f1_score)\n",
    "    return val_micro_f1_score, val_macro_f1_score\n",
    "\n"
   ]
  },
  {
   "cell_type": "code",
   "execution_count": 24,
   "metadata": {
    "id": "HG9J7OFEDsSB"
   },
   "outputs": [],
   "source": [
    "def train(\n",
    "    model,  \n",
    "    train_dataloader, \n",
    "    val_dataloader, \n",
    "    criterion, \n",
    "    optimizer, \n",
    "    scheduler, \n",
    "    epoch\n",
    "    ):\n",
    "    \n",
    "    # we validate config.N_VALIDATE_DUR_TRAIN times during the training loop\n",
    "    nv = config.N_VALIDATE_DUR_TRAIN\n",
    "    temp = len(train_dataloader) // nv\n",
    "    temp = temp - (temp % 100)\n",
    "    \n",
    "    train_loss = 0\n",
    "    optimizer.zero_grad()\n",
    "    for step, batch in enumerate(tqdm(train_dataloader, \n",
    "                                      desc='Epoch ' + str(epoch))):\n",
    "        # set model.eval() every time during training\n",
    "        model.train()\n",
    "        \n",
    "        # unpack the batch contents and push them to the device (cuda or cpu).\n",
    "        b_src_input_ids = batch['src_input_ids'].to(device)\n",
    "        b_src_attention_mask = batch['src_attention_mask'].to(device)\n",
    "    \n",
    "        lm_labels = batch['tgt_input_ids'].to(device)\n",
    "        lm_labels[lm_labels[:, :] == config.TOKENIZER.pad_token_id] = -100\n",
    "\n",
    "        b_tgt_attention_mask = batch['tgt_attention_mask'].to(device)\n",
    "\n",
    "        # clear accumulated gradients\n",
    "\n",
    "        # forward pass\n",
    "        outputs = model(input_ids=b_src_input_ids, \n",
    "                        attention_mask=b_src_attention_mask,\n",
    "                        lm_labels=lm_labels,\n",
    "                        decoder_attention_mask=b_tgt_attention_mask)\n",
    "        \n",
    "\n",
    "        loss = outputs[0] \n",
    "        train_loss += loss.item()\n",
    "        \n",
    "        #  average loss (grad accum.)\n",
    "        loss = loss / config.GRAD_ACCUM\n",
    "\n",
    "        # backward pass\n",
    "        loss.backward()\n",
    "        \n",
    "        if step % config.GRAD_ACCUM == 0:\n",
    "            # update weights\n",
    "            optimizer.step()\n",
    "            optimizer.zero_grad()\n",
    "\n",
    "        # update scheduler\n",
    "        scheduler.step()\n",
    "\n",
    "        \n",
    "    avg_train_loss = train_loss / len(train_dataloader)\n",
    "    print('Training loss:', avg_train_loss)"
   ]
  },
  {
   "cell_type": "markdown",
   "metadata": {
    "id": "ApdIReKk7OQJ",
    "tags": []
   },
   "source": [
    "## Run"
   ]
  },
  {
   "cell_type": "markdown",
   "metadata": {
    "id": "gvz40JjQFx-5",
    "tags": []
   },
   "source": [
    "### Loss function\n",
    "- **BCEWithLogitsLoss** - Most commonly used loss function for Multi Label Classification tasks. \n",
    "\n",
    "### Optimizer\n",
    "- **AdamW** - Commonly used optimizer. Similar to the AdaFactor that was used in T5 paper.\n",
    "\n",
    "### Scheduler\n",
    "- **get_linear_scheduler_with_warmup** from the **transformers** library.\n"
   ]
  },
  {
   "cell_type": "code",
   "execution_count": 25,
   "metadata": {
    "id": "93Qs1xH27FRe"
   },
   "outputs": [],
   "source": [
    "def run():\n",
    "    print(\"run training\")\n",
    "    # setting a seed ensures reproducible results.\n",
    "    # seed may affect the performance too.\n",
    "    torch.manual_seed(config.SEED)\n",
    "\n",
    "    criterion = nn.BCEWithLogitsLoss()\n",
    "    \n",
    "    # define the parameters to be optmized -\n",
    "    # - and add regularization\n",
    "    if config.FULL_FINETUNING:\n",
    "        param_optimizer = list(model.named_parameters())\n",
    "        no_decay = [\"bias\", \"LayerNorm.bias\", \"LayerNorm.weight\"]\n",
    "        optimizer_parameters = [\n",
    "            {\n",
    "                \"params\": [\n",
    "                    p for n, p in param_optimizer if not any(nd in n for nd in no_decay)\n",
    "                ],\n",
    "                \"weight_decay\": 0.001,\n",
    "            },\n",
    "            {\n",
    "                \"params\": [\n",
    "                    p for n, p in param_optimizer if any(nd in n for nd in no_decay)\n",
    "                ],\n",
    "                \"weight_decay\": 0.0,\n",
    "            },\n",
    "        ]\n",
    "        optimizer = optim.AdamW(optimizer_parameters, lr=config.LR)\n",
    "\n",
    "    num_training_steps = len(train_dataloader) * config.EPOCHS\n",
    "    scheduler = get_linear_schedule_with_warmup(\n",
    "        optimizer,\n",
    "        num_warmup_steps=0,\n",
    "        num_training_steps=num_training_steps\n",
    "    )\n",
    "    max_val_macro_f1_score = 0\n",
    "    print(\"start training:\")\n",
    "    for epoch in range(config.EPOCHS):\n",
    "        print(\"train epoch:\")\n",
    "        train(model, train_dataloader, val_dataloader, criterion, optimizer, scheduler, epoch)\n",
    "        print(\"evaluate:\")\n",
    "        val_micro_f1_score, val_macro_f1_score = val(model, val_dataloader, criterion)\n",
    "        print(\"dummy test:\")\n",
    "        dummy_test(model, config.TOKENIZER)\n",
    "        \n",
    "        if config.SAVE_BEST_ONLY:\n",
    "            if val_macro_f1_score > max_val_macro_f1_score:\n",
    "                best_model = copy.deepcopy(model)\n",
    "                best_val_macro_f1_score = val_macro_f1_score\n",
    "                \n",
    "\n",
    "                model_name = 't5_best_model'\n",
    "                torch.save(best_model.state_dict(), model_name + '.pt')\n",
    "\n",
    "                print(f'--- Best Model. Val loss: {max_val_macro_f1_score} -> {val_macro_f1_score}')\n",
    "                max_val_macro_f1_score = val_macro_f1_score\n",
    "\n",
    "    return best_model, best_val_macro_f1_score"
   ]
  },
  {
   "cell_type": "code",
   "execution_count": 26,
   "metadata": {},
   "outputs": [],
   "source": [
    "model = T5Model()\n",
    "model.to(device);"
   ]
  },
  {
   "cell_type": "markdown",
   "metadata": {},
   "source": [
    "Dummy test for sanity check during training"
   ]
  },
  {
   "cell_type": "code",
   "execution_count": 27,
   "metadata": {
    "id": "eW59UrCbF_rz"
   },
   "outputs": [
    {
     "name": "stdout",
     "output_type": "stream",
     "text": [
      "input:  Calssify specialties: The patient had a heart attack.\n",
      "output:  <pad> <extra_id_0> : The patient had a heart attack.<extra_id_1> : The patient had a heart attack\n",
      "input:  Classify specialties: The patient is a 5 year old girl, complaining about headack.\n",
      "output:  <pad> <extra_id_0> :<extra_id_1> : Classify specialties:<extra_id_2> : The patient is a 5 year old\n"
     ]
    }
   ],
   "source": [
    "def dummy_test(model, tokenizer):\n",
    "    model.eval()\n",
    "    inputs = [\"Calssify specialties: The patient had a heart attack.\",\n",
    "             \"Classify specialties: The patient is a 5 year old girl, complaining about headack.\"]\n",
    "    for transcription in inputs:\n",
    "        inp = tokenizer.encode_plus(transcription,\n",
    "                                    max_length=config.SRC_MAX_LENGTH,\n",
    "                                    padding='max_length',\n",
    "                                    # pad_to_max_length=True,\n",
    "                                    truncation=True,\n",
    "                                    return_attention_mask=True,\n",
    "                                    return_token_type_ids=False,\n",
    "                                    return_tensors='pt'\n",
    "                                    )\n",
    "        # print(inp)\n",
    "        src_input_ids = inp['input_ids'].to(device)\n",
    "        src_attention_mask = inp['attention_mask'].to(device)\n",
    "\n",
    "        with torch.no_grad():\n",
    "            pred_ids = model.t5_model.generate(\n",
    "                input_ids=src_input_ids, \n",
    "                attention_mask=src_attention_mask\n",
    "            )\n",
    "            pred_ids = pred_ids.cpu().numpy()\n",
    "            pred_decoded = tokenizer.decode(pred_ids[0])\n",
    "\n",
    "        print(\"input: \", transcription)\n",
    "        print(\"output: \", pred_decoded)\n",
    "\n",
    "    \n",
    "dummy_test(model, config.TOKENIZER)"
   ]
  },
  {
   "cell_type": "code",
   "execution_count": 26,
   "metadata": {
    "colab": {
     "base_uri": "https://localhost:8080/",
     "height": 144,
     "referenced_widgets": [
      "3c2d9a247866441285bc590dc8e77f4e",
      "d09f38a56d914461a5df6b14cb6b2bf1",
      "31ec9f62b4eb4530a8e1d838c416bd58",
      "84d2305d4fe746a98fa649e2c4bd959c",
      "1def0969f86d4bb088d1c709e7930e31",
      "c096e21111ee43499b42feaca1e4579f",
      "fc13149dd80646099e4daceb0069970d",
      "4d3705f3b4d34317978375ee66a0dd2e",
      "406b8a2a3eb841f6909b11dd273f4e2f",
      "f9e4dbdd8f224bf4867c1d5cf737668b",
      "4da5eb71840a4751a287670b216af3d3"
     ]
    },
    "id": "YMwlc6aG7e4I",
    "outputId": "ec79a81a-c0b2-4565-e22f-2b67b1c3b6d5"
   },
   "outputs": [
    {
     "name": "stdout",
     "output_type": "stream",
     "text": [
      "run training\n",
      "start training:\n",
      "train epoch:\n"
     ]
    },
    {
     "data": {
      "application/vnd.jupyter.widget-view+json": {
       "model_id": "0c2576050b9644c28903ac979bb1ce0b",
       "version_major": 2,
       "version_minor": 0
      },
      "text/plain": [
       "Epoch 0:   0%|          | 0/1661 [00:00<?, ?it/s]"
      ]
     },
     "metadata": {},
     "output_type": "display_data"
    },
    {
     "name": "stdout",
     "output_type": "stream",
     "text": [
      "Training loss: 0.8385336945166454\n",
      "evaluate:\n",
      "Val loss: 0.4249023879867002\n",
      "Val accuracy: 0.43614457831325304\n",
      "Val micro f1 score: 0.6899696048632219\n",
      "Val macro f1 score: 0.3193499469253828\n",
      "dummy test:\n",
      "input:  Calssify specialties: The patient had a heart attack.\n",
      "output:  <pad> Cardiovascular / Pulmonary</s>\n",
      "input:  Classify specialties: The patient is a 5 year old girl, complaining about headack.\n",
      "output:  <pad> General Medicine</s>\n"
     ]
    },
    {
     "name": "stderr",
     "output_type": "stream",
     "text": [
      "/home/hagaymi/nym/env/lib/python3.8/site-packages/sklearn/metrics/_classification.py:1570: UndefinedMetricWarning: F-score is ill-defined and being set to 0.0 in labels with no true nor predicted samples. Use `zero_division` parameter to control this behavior.\n",
      "  _warn_prf(average, \"true nor predicted\", \"F-score is\", len(true_sum))\n"
     ]
    },
    {
     "name": "stdout",
     "output_type": "stream",
     "text": [
      "--- Best Model. Val loss: 0 -> 0.3193499469253828\n",
      "train epoch:\n"
     ]
    },
    {
     "data": {
      "application/vnd.jupyter.widget-view+json": {
       "model_id": "d9b491aa9ee142a6a84d86a557e232de",
       "version_major": 2,
       "version_minor": 0
      },
      "text/plain": [
       "Epoch 1:   0%|          | 0/1661 [00:00<?, ?it/s]"
      ]
     },
     "metadata": {},
     "output_type": "display_data"
    },
    {
     "name": "stdout",
     "output_type": "stream",
     "text": [
      "Training loss: 0.3941785768579977\n",
      "evaluate:\n",
      "Val loss: 0.3358515584137268\n",
      "Val accuracy: 0.5349397590361445\n",
      "Val micro f1 score: 0.7480482611781405\n",
      "Val macro f1 score: 0.45544548794756895\n",
      "dummy test:\n",
      "input:  Calssify specialties: The patient had a heart attack.\n",
      "output:  <pad> Cardiovascular / Pulmonary</s>\n",
      "input:  Classify specialties: The patient is a 5 year old girl, complaining about headack.\n",
      "output:  <pad> General Medicine</s>\n"
     ]
    },
    {
     "name": "stderr",
     "output_type": "stream",
     "text": [
      "/home/hagaymi/nym/env/lib/python3.8/site-packages/sklearn/metrics/_classification.py:1570: UndefinedMetricWarning: F-score is ill-defined and being set to 0.0 in labels with no true nor predicted samples. Use `zero_division` parameter to control this behavior.\n",
      "  _warn_prf(average, \"true nor predicted\", \"F-score is\", len(true_sum))\n"
     ]
    },
    {
     "name": "stdout",
     "output_type": "stream",
     "text": [
      "--- Best Model. Val loss: 0.3193499469253828 -> 0.45544548794756895\n",
      "train epoch:\n"
     ]
    },
    {
     "data": {
      "application/vnd.jupyter.widget-view+json": {
       "model_id": "b5c047f8ddfa4b31bda8f22d5cbeac51",
       "version_major": 2,
       "version_minor": 0
      },
      "text/plain": [
       "Epoch 2:   0%|          | 0/1661 [00:00<?, ?it/s]"
      ]
     },
     "metadata": {},
     "output_type": "display_data"
    },
    {
     "name": "stdout",
     "output_type": "stream",
     "text": [
      "Training loss: 0.2906024074703716\n",
      "evaluate:\n",
      "Val loss: 0.3151725315522537\n",
      "Val accuracy: 0.5518072289156627\n",
      "Val micro f1 score: 0.7736804049168474\n",
      "Val macro f1 score: 0.5107603659908908\n",
      "dummy test:\n",
      "input:  Calssify specialties: The patient had a heart attack.\n",
      "output:  <pad> Cardiovascular / Pulmonary</s>\n"
     ]
    },
    {
     "name": "stderr",
     "output_type": "stream",
     "text": [
      "/home/hagaymi/nym/env/lib/python3.8/site-packages/sklearn/metrics/_classification.py:1570: UndefinedMetricWarning: F-score is ill-defined and being set to 0.0 in labels with no true nor predicted samples. Use `zero_division` parameter to control this behavior.\n",
      "  _warn_prf(average, \"true nor predicted\", \"F-score is\", len(true_sum))\n"
     ]
    },
    {
     "name": "stdout",
     "output_type": "stream",
     "text": [
      "input:  Classify specialties: The patient is a 5 year old girl, complaining about headack.\n",
      "output:  <pad> Orthopedic</s>\n",
      "--- Best Model. Val loss: 0.45544548794756895 -> 0.5107603659908908\n",
      "train epoch:\n"
     ]
    },
    {
     "data": {
      "application/vnd.jupyter.widget-view+json": {
       "model_id": "4940f9dab7684c6bbc008cc6e4d7c2db",
       "version_major": 2,
       "version_minor": 0
      },
      "text/plain": [
       "Epoch 3:   0%|          | 0/1661 [00:00<?, ?it/s]"
      ]
     },
     "metadata": {},
     "output_type": "display_data"
    },
    {
     "name": "stdout",
     "output_type": "stream",
     "text": [
      "Training loss: 0.21943543550348055\n",
      "evaluate:\n",
      "Val loss: 0.2846852308934476\n",
      "Val accuracy: 0.5975903614457831\n",
      "Val micro f1 score: 0.8014545454545455\n",
      "Val macro f1 score: 0.5276619987502772\n",
      "dummy test:\n",
      "input:  Calssify specialties: The patient had a heart attack.\n",
      "output:  <pad> Cardiovascular / Pulmonary</s>\n",
      "input:  Classify specialties: The patient is a 5 year old girl, complaining about headack.\n",
      "output:  <pad> General Medicine</s>\n"
     ]
    },
    {
     "name": "stderr",
     "output_type": "stream",
     "text": [
      "/home/hagaymi/nym/env/lib/python3.8/site-packages/sklearn/metrics/_classification.py:1570: UndefinedMetricWarning: F-score is ill-defined and being set to 0.0 in labels with no true nor predicted samples. Use `zero_division` parameter to control this behavior.\n",
      "  _warn_prf(average, \"true nor predicted\", \"F-score is\", len(true_sum))\n"
     ]
    },
    {
     "name": "stdout",
     "output_type": "stream",
     "text": [
      "--- Best Model. Val loss: 0.5107603659908908 -> 0.5276619987502772\n",
      "train epoch:\n"
     ]
    },
    {
     "data": {
      "application/vnd.jupyter.widget-view+json": {
       "model_id": "4db46c4f1ddc4e289ec8706d5ef6e462",
       "version_major": 2,
       "version_minor": 0
      },
      "text/plain": [
       "Epoch 4:   0%|          | 0/1661 [00:00<?, ?it/s]"
      ]
     },
     "metadata": {},
     "output_type": "display_data"
    },
    {
     "name": "stdout",
     "output_type": "stream",
     "text": [
      "Training loss: 0.16886430776527056\n",
      "evaluate:\n",
      "Val loss: 0.29444158515266666\n",
      "Val accuracy: 0.619277108433735\n",
      "Val micro f1 score: 0.8031609195402298\n",
      "Val macro f1 score: 0.5664377246660679\n",
      "dummy test:\n",
      "input:  Calssify specialties: The patient had a heart attack.\n",
      "output:  <pad> Cardiovascular / Pulmonary</s>\n"
     ]
    },
    {
     "name": "stderr",
     "output_type": "stream",
     "text": [
      "/home/hagaymi/nym/env/lib/python3.8/site-packages/sklearn/metrics/_classification.py:1570: UndefinedMetricWarning: F-score is ill-defined and being set to 0.0 in labels with no true nor predicted samples. Use `zero_division` parameter to control this behavior.\n",
      "  _warn_prf(average, \"true nor predicted\", \"F-score is\", len(true_sum))\n"
     ]
    },
    {
     "name": "stdout",
     "output_type": "stream",
     "text": [
      "input:  Classify specialties: The patient is a 5 year old girl, complaining about headack.\n",
      "output:  <pad> General Medicine</s>\n",
      "--- Best Model. Val loss: 0.5276619987502772 -> 0.5664377246660679\n",
      "train epoch:\n"
     ]
    },
    {
     "data": {
      "application/vnd.jupyter.widget-view+json": {
       "model_id": "c15e2455ab2743158db9dc639b958323",
       "version_major": 2,
       "version_minor": 0
      },
      "text/plain": [
       "Epoch 5:   0%|          | 0/1661 [00:00<?, ?it/s]"
      ]
     },
     "metadata": {},
     "output_type": "display_data"
    },
    {
     "name": "stdout",
     "output_type": "stream",
     "text": [
      "Training loss: 0.13692955300506712\n",
      "evaluate:\n",
      "Val loss: 0.3004136741918046\n",
      "Val accuracy: 0.6144578313253012\n",
      "Val micro f1 score: 0.8140556368960469\n",
      "Val macro f1 score: 0.5717755706748608\n",
      "dummy test:\n",
      "input:  Calssify specialties: The patient had a heart attack.\n",
      "output:  <pad> Cardiovascular / Pulmonary</s>\n"
     ]
    },
    {
     "name": "stderr",
     "output_type": "stream",
     "text": [
      "/home/hagaymi/nym/env/lib/python3.8/site-packages/sklearn/metrics/_classification.py:1570: UndefinedMetricWarning: F-score is ill-defined and being set to 0.0 in labels with no true nor predicted samples. Use `zero_division` parameter to control this behavior.\n",
      "  _warn_prf(average, \"true nor predicted\", \"F-score is\", len(true_sum))\n"
     ]
    },
    {
     "name": "stdout",
     "output_type": "stream",
     "text": [
      "input:  Classify specialties: The patient is a 5 year old girl, complaining about headack.\n",
      "output:  <pad> Neurology</s>\n",
      "--- Best Model. Val loss: 0.5664377246660679 -> 0.5717755706748608\n",
      "train epoch:\n"
     ]
    },
    {
     "data": {
      "application/vnd.jupyter.widget-view+json": {
       "model_id": "91935d21a3fb4c7cab3809d2f9a11951",
       "version_major": 2,
       "version_minor": 0
      },
      "text/plain": [
       "Epoch 6:   0%|          | 0/1661 [00:00<?, ?it/s]"
      ]
     },
     "metadata": {},
     "output_type": "display_data"
    },
    {
     "name": "stdout",
     "output_type": "stream",
     "text": [
      "Training loss: 0.10974250271372195\n",
      "evaluate:\n",
      "Val loss: 0.3225993276744045\n",
      "Val accuracy: 0.6481927710843374\n",
      "Val micro f1 score: 0.8224431818181818\n",
      "Val macro f1 score: 0.5911512523594658\n",
      "dummy test:\n",
      "input:  Calssify specialties: The patient had a heart attack.\n",
      "output:  <pad> Cardiovascular / Pulmonary</s>\n",
      "input:  Classify specialties: The patient is a 5 year old girl, complaining about headack.\n",
      "output:  <pad> Neurology</s>\n"
     ]
    },
    {
     "name": "stderr",
     "output_type": "stream",
     "text": [
      "/home/hagaymi/nym/env/lib/python3.8/site-packages/sklearn/metrics/_classification.py:1570: UndefinedMetricWarning: F-score is ill-defined and being set to 0.0 in labels with no true nor predicted samples. Use `zero_division` parameter to control this behavior.\n",
      "  _warn_prf(average, \"true nor predicted\", \"F-score is\", len(true_sum))\n"
     ]
    },
    {
     "name": "stdout",
     "output_type": "stream",
     "text": [
      "--- Best Model. Val loss: 0.5717755706748608 -> 0.5911512523594658\n",
      "train epoch:\n"
     ]
    },
    {
     "data": {
      "application/vnd.jupyter.widget-view+json": {
       "model_id": "710da0f23a9a4deab7863992b2ade960",
       "version_major": 2,
       "version_minor": 0
      },
      "text/plain": [
       "Epoch 7:   0%|          | 0/1661 [00:00<?, ?it/s]"
      ]
     },
     "metadata": {},
     "output_type": "display_data"
    },
    {
     "name": "stdout",
     "output_type": "stream",
     "text": [
      "Training loss: 0.08233861585834729\n",
      "evaluate:\n",
      "Val loss: 0.33574699894630744\n",
      "Val accuracy: 0.6602409638554216\n",
      "Val micro f1 score: 0.837473385379702\n",
      "Val macro f1 score: 0.6262702075853831\n",
      "dummy test:\n",
      "input:  Calssify specialties: The patient had a heart attack.\n",
      "output:  <pad> Cardiovascular / Pulmonary</s>\n"
     ]
    },
    {
     "name": "stderr",
     "output_type": "stream",
     "text": [
      "/home/hagaymi/nym/env/lib/python3.8/site-packages/sklearn/metrics/_classification.py:1570: UndefinedMetricWarning: F-score is ill-defined and being set to 0.0 in labels with no true nor predicted samples. Use `zero_division` parameter to control this behavior.\n",
      "  _warn_prf(average, \"true nor predicted\", \"F-score is\", len(true_sum))\n"
     ]
    },
    {
     "name": "stdout",
     "output_type": "stream",
     "text": [
      "input:  Classify specialties: The patient is a 5 year old girl, complaining about headack.\n",
      "output:  <pad> General Medicine</s>\n",
      "--- Best Model. Val loss: 0.5911512523594658 -> 0.6262702075853831\n",
      "train epoch:\n"
     ]
    },
    {
     "data": {
      "application/vnd.jupyter.widget-view+json": {
       "model_id": "15a5d410dedd443985c09afe61c10faa",
       "version_major": 2,
       "version_minor": 0
      },
      "text/plain": [
       "Epoch 8:   0%|          | 0/1661 [00:00<?, ?it/s]"
      ]
     },
     "metadata": {},
     "output_type": "display_data"
    },
    {
     "name": "stdout",
     "output_type": "stream",
     "text": [
      "Training loss: 0.07389040616252923\n",
      "evaluate:\n",
      "Val loss: 0.348416161140451\n",
      "Val accuracy: 0.6313253012048192\n",
      "Val micro f1 score: 0.8134863701578191\n",
      "Val macro f1 score: 0.5849918456599277\n",
      "dummy test:\n",
      "input:  Calssify specialties: The patient had a heart attack.\n",
      "output:  <pad> Cardiovascular / Pulmonary</s>\n",
      "input:  Classify specialties: The patient is a 5 year old girl, complaining about headack.\n",
      "output:  <pad> General Medicine</s>\n",
      "train epoch:\n"
     ]
    },
    {
     "name": "stderr",
     "output_type": "stream",
     "text": [
      "/home/hagaymi/nym/env/lib/python3.8/site-packages/sklearn/metrics/_classification.py:1570: UndefinedMetricWarning: F-score is ill-defined and being set to 0.0 in labels with no true nor predicted samples. Use `zero_division` parameter to control this behavior.\n",
      "  _warn_prf(average, \"true nor predicted\", \"F-score is\", len(true_sum))\n"
     ]
    },
    {
     "data": {
      "application/vnd.jupyter.widget-view+json": {
       "model_id": "06501d0d729f497982a791d92fbdc946",
       "version_major": 2,
       "version_minor": 0
      },
      "text/plain": [
       "Epoch 9:   0%|          | 0/1661 [00:00<?, ?it/s]"
      ]
     },
     "metadata": {},
     "output_type": "display_data"
    },
    {
     "name": "stdout",
     "output_type": "stream",
     "text": [
      "Training loss: 0.06426471021385449\n",
      "evaluate:\n",
      "Val loss: 0.37814224199982743\n",
      "Val accuracy: 0.6289156626506024\n",
      "Val micro f1 score: 0.8147612156295224\n",
      "Val macro f1 score: 0.6072968473739686\n",
      "dummy test:\n",
      "input:  Calssify specialties: The patient had a heart attack.\n",
      "output:  <pad> Cardiovascular / Pulmonary</s>\n",
      "input:  Classify specialties: The patient is a 5 year old girl, complaining about headack.\n",
      "output:  <pad> General Medicine</s>\n",
      "train epoch:\n"
     ]
    },
    {
     "name": "stderr",
     "output_type": "stream",
     "text": [
      "/home/hagaymi/nym/env/lib/python3.8/site-packages/sklearn/metrics/_classification.py:1570: UndefinedMetricWarning: F-score is ill-defined and being set to 0.0 in labels with no true nor predicted samples. Use `zero_division` parameter to control this behavior.\n",
      "  _warn_prf(average, \"true nor predicted\", \"F-score is\", len(true_sum))\n"
     ]
    },
    {
     "data": {
      "application/vnd.jupyter.widget-view+json": {
       "model_id": "bc4dc54877044958bfa379a65317aa5d",
       "version_major": 2,
       "version_minor": 0
      },
      "text/plain": [
       "Epoch 10:   0%|          | 0/1661 [00:00<?, ?it/s]"
      ]
     },
     "metadata": {},
     "output_type": "display_data"
    },
    {
     "name": "stdout",
     "output_type": "stream",
     "text": [
      "Training loss: 0.047367632667333466\n",
      "evaluate:\n",
      "Val loss: 0.3671876223452229\n",
      "Val accuracy: 0.6433734939759036\n",
      "Val micro f1 score: 0.822695035460993\n",
      "Val macro f1 score: 0.6046047775966376\n",
      "dummy test:\n",
      "input:  Calssify specialties: The patient had a heart attack.\n",
      "output:  <pad> Cardiovascular / Pulmonary</s>\n",
      "input:  Classify specialties: The patient is a 5 year old girl, complaining about headack.\n",
      "output:  <pad> Neurology</s>\n",
      "train epoch:\n"
     ]
    },
    {
     "name": "stderr",
     "output_type": "stream",
     "text": [
      "/home/hagaymi/nym/env/lib/python3.8/site-packages/sklearn/metrics/_classification.py:1570: UndefinedMetricWarning: F-score is ill-defined and being set to 0.0 in labels with no true nor predicted samples. Use `zero_division` parameter to control this behavior.\n",
      "  _warn_prf(average, \"true nor predicted\", \"F-score is\", len(true_sum))\n"
     ]
    },
    {
     "data": {
      "application/vnd.jupyter.widget-view+json": {
       "model_id": "707cf58a3cc6404dadd81a8dff012e1f",
       "version_major": 2,
       "version_minor": 0
      },
      "text/plain": [
       "Epoch 11:   0%|          | 0/1661 [00:00<?, ?it/s]"
      ]
     },
     "metadata": {},
     "output_type": "display_data"
    },
    {
     "name": "stdout",
     "output_type": "stream",
     "text": [
      "Training loss: 0.04244397023404313\n",
      "evaluate:\n",
      "Val loss: 0.37474984023706437\n",
      "Val accuracy: 0.6433734939759036\n",
      "Val micro f1 score: 0.8217609162491053\n",
      "Val macro f1 score: 0.609781955316902\n",
      "dummy test:\n",
      "input:  Calssify specialties: The patient had a heart attack.\n",
      "output:  <pad> Cardiovascular / Pulmonary</s>\n",
      "input:  Classify specialties: The patient is a 5 year old girl, complaining about headack.\n",
      "output:  <pad> General Medicine</s>\n",
      "train epoch:\n"
     ]
    },
    {
     "name": "stderr",
     "output_type": "stream",
     "text": [
      "/home/hagaymi/nym/env/lib/python3.8/site-packages/sklearn/metrics/_classification.py:1570: UndefinedMetricWarning: F-score is ill-defined and being set to 0.0 in labels with no true nor predicted samples. Use `zero_division` parameter to control this behavior.\n",
      "  _warn_prf(average, \"true nor predicted\", \"F-score is\", len(true_sum))\n"
     ]
    },
    {
     "data": {
      "application/vnd.jupyter.widget-view+json": {
       "model_id": "922eac4db1414d2baf93568ef2183abb",
       "version_major": 2,
       "version_minor": 0
      },
      "text/plain": [
       "Epoch 12:   0%|          | 0/1661 [00:00<?, ?it/s]"
      ]
     },
     "metadata": {},
     "output_type": "display_data"
    },
    {
     "name": "stdout",
     "output_type": "stream",
     "text": [
      "Training loss: 0.03401028180288624\n",
      "evaluate:\n",
      "Val loss: 0.38349244181450143\n",
      "Val accuracy: 0.6506024096385542\n",
      "Val micro f1 score: 0.8288920056100981\n",
      "Val macro f1 score: 0.6297593090136293\n",
      "dummy test:\n",
      "input:  Calssify specialties: The patient had a heart attack.\n",
      "output:  <pad> Cardiovascular / Pulmonary</s>\n",
      "input:  Classify specialties: The patient is a 5 year old girl, complaining about headack.\n",
      "output:  <pad> General Medicine</s>\n"
     ]
    },
    {
     "name": "stderr",
     "output_type": "stream",
     "text": [
      "/home/hagaymi/nym/env/lib/python3.8/site-packages/sklearn/metrics/_classification.py:1570: UndefinedMetricWarning: F-score is ill-defined and being set to 0.0 in labels with no true nor predicted samples. Use `zero_division` parameter to control this behavior.\n",
      "  _warn_prf(average, \"true nor predicted\", \"F-score is\", len(true_sum))\n"
     ]
    },
    {
     "name": "stdout",
     "output_type": "stream",
     "text": [
      "--- Best Model. Val loss: 0.6262702075853831 -> 0.6297593090136293\n",
      "train epoch:\n"
     ]
    },
    {
     "data": {
      "application/vnd.jupyter.widget-view+json": {
       "model_id": "55e476789b624cecad67937e7ef31277",
       "version_major": 2,
       "version_minor": 0
      },
      "text/plain": [
       "Epoch 13:   0%|          | 0/1661 [00:00<?, ?it/s]"
      ]
     },
     "metadata": {},
     "output_type": "display_data"
    },
    {
     "name": "stdout",
     "output_type": "stream",
     "text": [
      "Training loss: 0.031005937397028022\n",
      "evaluate:\n",
      "Val loss: 0.3925453853230268\n",
      "Val accuracy: 0.6457831325301204\n",
      "Val micro f1 score: 0.8272921108742004\n",
      "Val macro f1 score: 0.6127021182049807\n",
      "dummy test:\n",
      "input:  Calssify specialties: The patient had a heart attack.\n",
      "output:  <pad> Cardiovascular / Pulmonary</s>\n",
      "input:  Classify specialties: The patient is a 5 year old girl, complaining about headack.\n",
      "output:  <pad> Neurology</s>\n",
      "train epoch:\n"
     ]
    },
    {
     "name": "stderr",
     "output_type": "stream",
     "text": [
      "/home/hagaymi/nym/env/lib/python3.8/site-packages/sklearn/metrics/_classification.py:1570: UndefinedMetricWarning: F-score is ill-defined and being set to 0.0 in labels with no true nor predicted samples. Use `zero_division` parameter to control this behavior.\n",
      "  _warn_prf(average, \"true nor predicted\", \"F-score is\", len(true_sum))\n"
     ]
    },
    {
     "data": {
      "application/vnd.jupyter.widget-view+json": {
       "model_id": "da01ab3269394931a06738b3de695d8d",
       "version_major": 2,
       "version_minor": 0
      },
      "text/plain": [
       "Epoch 14:   0%|          | 0/1661 [00:00<?, ?it/s]"
      ]
     },
     "metadata": {},
     "output_type": "display_data"
    },
    {
     "name": "stdout",
     "output_type": "stream",
     "text": [
      "Training loss: 0.02344069308011643\n",
      "evaluate:\n",
      "Val loss: 0.4200558671619355\n",
      "Val accuracy: 0.6481927710843374\n",
      "Val micro f1 score: 0.8294736842105263\n",
      "Val macro f1 score: 0.6265803510713274\n",
      "dummy test:\n",
      "input:  Calssify specialties: The patient had a heart attack.\n",
      "output:  <pad> Cardiovascular / Pulmonary</s>\n",
      "input:  Classify specialties: The patient is a 5 year old girl, complaining about headack.\n",
      "output:  <pad> Neurology</s>\n",
      "train epoch:\n"
     ]
    },
    {
     "name": "stderr",
     "output_type": "stream",
     "text": [
      "/home/hagaymi/nym/env/lib/python3.8/site-packages/sklearn/metrics/_classification.py:1570: UndefinedMetricWarning: F-score is ill-defined and being set to 0.0 in labels with no true nor predicted samples. Use `zero_division` parameter to control this behavior.\n",
      "  _warn_prf(average, \"true nor predicted\", \"F-score is\", len(true_sum))\n"
     ]
    },
    {
     "data": {
      "application/vnd.jupyter.widget-view+json": {
       "model_id": "5c57c769202c42f8aefbd64a02a55bc5",
       "version_major": 2,
       "version_minor": 0
      },
      "text/plain": [
       "Epoch 15:   0%|          | 0/1661 [00:00<?, ?it/s]"
      ]
     },
     "metadata": {},
     "output_type": "display_data"
    },
    {
     "name": "stdout",
     "output_type": "stream",
     "text": [
      "Training loss: 0.021346518578800672\n",
      "evaluate:\n",
      "Val loss: 0.412597765048988\n",
      "Val accuracy: 0.6433734939759036\n",
      "Val micro f1 score: 0.8239436619718309\n",
      "Val macro f1 score: 0.6151040863944025\n",
      "dummy test:\n",
      "input:  Calssify specialties: The patient had a heart attack.\n",
      "output:  <pad> Cardiovascular / Pulmonary</s>\n",
      "input:  Classify specialties: The patient is a 5 year old girl, complaining about headack.\n",
      "output:  <pad> General Medicine</s>\n",
      "train epoch:\n"
     ]
    },
    {
     "name": "stderr",
     "output_type": "stream",
     "text": [
      "/home/hagaymi/nym/env/lib/python3.8/site-packages/sklearn/metrics/_classification.py:1570: UndefinedMetricWarning: F-score is ill-defined and being set to 0.0 in labels with no true nor predicted samples. Use `zero_division` parameter to control this behavior.\n",
      "  _warn_prf(average, \"true nor predicted\", \"F-score is\", len(true_sum))\n"
     ]
    },
    {
     "data": {
      "application/vnd.jupyter.widget-view+json": {
       "model_id": "0dde14308ed54bf7bd666a3d2be573f3",
       "version_major": 2,
       "version_minor": 0
      },
      "text/plain": [
       "Epoch 16:   0%|          | 0/1661 [00:00<?, ?it/s]"
      ]
     },
     "metadata": {},
     "output_type": "display_data"
    },
    {
     "name": "stdout",
     "output_type": "stream",
     "text": [
      "Training loss: 0.017905857973524113\n",
      "evaluate:\n",
      "Val loss: 0.4262377683112681\n",
      "Val accuracy: 0.653012048192771\n",
      "Val micro f1 score: 0.829639889196676\n",
      "Val macro f1 score: 0.6292913960491519\n",
      "dummy test:\n",
      "input:  Calssify specialties: The patient had a heart attack.\n",
      "output:  <pad> Cardiovascular / Pulmonary</s>\n",
      "input:  Classify specialties: The patient is a 5 year old girl, complaining about headack.\n",
      "output:  <pad> Neurology</s>\n",
      "train epoch:\n"
     ]
    },
    {
     "name": "stderr",
     "output_type": "stream",
     "text": [
      "/home/hagaymi/nym/env/lib/python3.8/site-packages/sklearn/metrics/_classification.py:1570: UndefinedMetricWarning: F-score is ill-defined and being set to 0.0 in labels with no true nor predicted samples. Use `zero_division` parameter to control this behavior.\n",
      "  _warn_prf(average, \"true nor predicted\", \"F-score is\", len(true_sum))\n"
     ]
    },
    {
     "data": {
      "application/vnd.jupyter.widget-view+json": {
       "model_id": "4ee2b978a7374f0d96f91b1441d13ffe",
       "version_major": 2,
       "version_minor": 0
      },
      "text/plain": [
       "Epoch 17:   0%|          | 0/1661 [00:00<?, ?it/s]"
      ]
     },
     "metadata": {},
     "output_type": "display_data"
    },
    {
     "name": "stdout",
     "output_type": "stream",
     "text": [
      "Training loss: 0.014011861460327889\n",
      "evaluate:\n",
      "Val loss: 0.43268926860948986\n",
      "Val accuracy: 0.653012048192771\n",
      "Val micro f1 score: 0.8305555555555555\n",
      "Val macro f1 score: 0.6294737333955391\n",
      "dummy test:\n",
      "input:  Calssify specialties: The patient had a heart attack.\n",
      "output:  <pad> Cardiovascular / Pulmonary</s>\n",
      "input:  Classify specialties: The patient is a 5 year old girl, complaining about headack.\n",
      "output:  <pad> Neurology</s>\n",
      "train epoch:\n"
     ]
    },
    {
     "name": "stderr",
     "output_type": "stream",
     "text": [
      "/home/hagaymi/nym/env/lib/python3.8/site-packages/sklearn/metrics/_classification.py:1570: UndefinedMetricWarning: F-score is ill-defined and being set to 0.0 in labels with no true nor predicted samples. Use `zero_division` parameter to control this behavior.\n",
      "  _warn_prf(average, \"true nor predicted\", \"F-score is\", len(true_sum))\n"
     ]
    },
    {
     "data": {
      "application/vnd.jupyter.widget-view+json": {
       "model_id": "dd20d97098b947eebc1dfc132d8c8509",
       "version_major": 2,
       "version_minor": 0
      },
      "text/plain": [
       "Epoch 18:   0%|          | 0/1661 [00:00<?, ?it/s]"
      ]
     },
     "metadata": {},
     "output_type": "display_data"
    },
    {
     "name": "stdout",
     "output_type": "stream",
     "text": [
      "Training loss: 0.0135937547616771\n",
      "evaluate:\n",
      "Val loss: 0.4460605543904339\n",
      "Val accuracy: 0.6506024096385542\n",
      "Val micro f1 score: 0.8293020041465101\n",
      "Val macro f1 score: 0.6352388885151725\n",
      "dummy test:\n",
      "input:  Calssify specialties: The patient had a heart attack.\n",
      "output:  <pad> Cardiovascular / Pulmonary</s>\n",
      "input:  Classify specialties: The patient is a 5 year old girl, complaining about headack.\n",
      "output:  <pad> General Medicine</s>\n"
     ]
    },
    {
     "name": "stderr",
     "output_type": "stream",
     "text": [
      "/home/hagaymi/nym/env/lib/python3.8/site-packages/sklearn/metrics/_classification.py:1570: UndefinedMetricWarning: F-score is ill-defined and being set to 0.0 in labels with no true nor predicted samples. Use `zero_division` parameter to control this behavior.\n",
      "  _warn_prf(average, \"true nor predicted\", \"F-score is\", len(true_sum))\n"
     ]
    },
    {
     "name": "stdout",
     "output_type": "stream",
     "text": [
      "--- Best Model. Val loss: 0.6297593090136293 -> 0.6352388885151725\n",
      "train epoch:\n"
     ]
    },
    {
     "data": {
      "application/vnd.jupyter.widget-view+json": {
       "model_id": "c8d9b177c3644c31a15828088ab25e93",
       "version_major": 2,
       "version_minor": 0
      },
      "text/plain": [
       "Epoch 19:   0%|          | 0/1661 [00:00<?, ?it/s]"
      ]
     },
     "metadata": {},
     "output_type": "display_data"
    },
    {
     "name": "stdout",
     "output_type": "stream",
     "text": [
      "Training loss: 0.012089074333362418\n",
      "evaluate:\n",
      "Val loss: 0.4382678328608952\n",
      "Val accuracy: 0.6674698795180722\n",
      "Val micro f1 score: 0.8370473537604456\n",
      "Val macro f1 score: 0.639998443989698\n",
      "dummy test:\n",
      "input:  Calssify specialties: The patient had a heart attack.\n",
      "output:  <pad> Cardiovascular / Pulmonary</s>\n"
     ]
    },
    {
     "name": "stderr",
     "output_type": "stream",
     "text": [
      "/home/hagaymi/nym/env/lib/python3.8/site-packages/sklearn/metrics/_classification.py:1570: UndefinedMetricWarning: F-score is ill-defined and being set to 0.0 in labels with no true nor predicted samples. Use `zero_division` parameter to control this behavior.\n",
      "  _warn_prf(average, \"true nor predicted\", \"F-score is\", len(true_sum))\n"
     ]
    },
    {
     "name": "stdout",
     "output_type": "stream",
     "text": [
      "input:  Classify specialties: The patient is a 5 year old girl, complaining about headack.\n",
      "output:  <pad> General Medicine</s>\n",
      "--- Best Model. Val loss: 0.6352388885151725 -> 0.639998443989698\n"
     ]
    }
   ],
   "source": [
    "best_model, best_val_macro_f1_score = run()"
   ]
  },
  {
   "cell_type": "code",
   "execution_count": 28,
   "metadata": {},
   "outputs": [
    {
     "name": "stdout",
     "output_type": "stream",
     "text": [
      "best macro f1:  0.639998443989698\n",
      "input:  Calssify specialties: The patient had a heart attack.\n",
      "output:  <pad> Cardiovascular / Pulmonary</s>\n",
      "input:  Classify specialties: The patient is a 5 year old girl, complaining about headack.\n",
      "output:  <pad> General Medicine</s>\n"
     ]
    }
   ],
   "source": [
    "print(\"best macro f1: \", best_val_macro_f1_score) \n",
    "dummy_test(best_model, config.TOKENIZER)"
   ]
  },
  {
   "cell_type": "markdown",
   "metadata": {
    "id": "7f4kLd1OGes-",
    "tags": []
   },
   "source": [
    "## Submission\n",
    "Download and evaluate submission model"
   ]
  },
  {
   "cell_type": "code",
   "execution_count": null,
   "metadata": {},
   "outputs": [],
   "source": []
  },
  {
   "cell_type": "code",
   "execution_count": 29,
   "metadata": {},
   "outputs": [],
   "source": [
    "# doenload trained model\n",
    "# https://drive.google.com/file/d/1ONzcbO06kIzrA5t8W-os7Jp-jvwXNb0Y/view?usp=sharing\n",
    "# https://drive.google.com/file/d/1ONzcbO06kIzrA5t8W-os7Jp-jvwXNb0Y/view?usp=sharing\n",
    "!gdown --id 1ONzcbO06kIzrA5t8W-os7Jp-jvwXNb0Y"
   ]
  },
  {
   "cell_type": "code",
   "execution_count": 32,
   "metadata": {},
   "outputs": [
    {
     "data": {
      "text/plain": [
       "T5Model(\n",
       "  (t5_model): T5ForConditionalGeneration(\n",
       "    (shared): Embedding(32128, 768)\n",
       "    (encoder): T5Stack(\n",
       "      (embed_tokens): Embedding(32128, 768)\n",
       "      (block): ModuleList(\n",
       "        (0): T5Block(\n",
       "          (layer): ModuleList(\n",
       "            (0): T5LayerSelfAttention(\n",
       "              (SelfAttention): T5Attention(\n",
       "                (q): Linear(in_features=768, out_features=768, bias=False)\n",
       "                (k): Linear(in_features=768, out_features=768, bias=False)\n",
       "                (v): Linear(in_features=768, out_features=768, bias=False)\n",
       "                (o): Linear(in_features=768, out_features=768, bias=False)\n",
       "                (relative_attention_bias): Embedding(32, 12)\n",
       "              )\n",
       "              (layer_norm): T5LayerNorm()\n",
       "              (dropout): Dropout(p=0.1, inplace=False)\n",
       "            )\n",
       "            (1): T5LayerFF(\n",
       "              (DenseReluDense): T5DenseReluDense(\n",
       "                (wi): Linear(in_features=768, out_features=3072, bias=False)\n",
       "                (wo): Linear(in_features=3072, out_features=768, bias=False)\n",
       "                (dropout): Dropout(p=0.1, inplace=False)\n",
       "              )\n",
       "              (layer_norm): T5LayerNorm()\n",
       "              (dropout): Dropout(p=0.1, inplace=False)\n",
       "            )\n",
       "          )\n",
       "        )\n",
       "        (1): T5Block(\n",
       "          (layer): ModuleList(\n",
       "            (0): T5LayerSelfAttention(\n",
       "              (SelfAttention): T5Attention(\n",
       "                (q): Linear(in_features=768, out_features=768, bias=False)\n",
       "                (k): Linear(in_features=768, out_features=768, bias=False)\n",
       "                (v): Linear(in_features=768, out_features=768, bias=False)\n",
       "                (o): Linear(in_features=768, out_features=768, bias=False)\n",
       "              )\n",
       "              (layer_norm): T5LayerNorm()\n",
       "              (dropout): Dropout(p=0.1, inplace=False)\n",
       "            )\n",
       "            (1): T5LayerFF(\n",
       "              (DenseReluDense): T5DenseReluDense(\n",
       "                (wi): Linear(in_features=768, out_features=3072, bias=False)\n",
       "                (wo): Linear(in_features=3072, out_features=768, bias=False)\n",
       "                (dropout): Dropout(p=0.1, inplace=False)\n",
       "              )\n",
       "              (layer_norm): T5LayerNorm()\n",
       "              (dropout): Dropout(p=0.1, inplace=False)\n",
       "            )\n",
       "          )\n",
       "        )\n",
       "        (2): T5Block(\n",
       "          (layer): ModuleList(\n",
       "            (0): T5LayerSelfAttention(\n",
       "              (SelfAttention): T5Attention(\n",
       "                (q): Linear(in_features=768, out_features=768, bias=False)\n",
       "                (k): Linear(in_features=768, out_features=768, bias=False)\n",
       "                (v): Linear(in_features=768, out_features=768, bias=False)\n",
       "                (o): Linear(in_features=768, out_features=768, bias=False)\n",
       "              )\n",
       "              (layer_norm): T5LayerNorm()\n",
       "              (dropout): Dropout(p=0.1, inplace=False)\n",
       "            )\n",
       "            (1): T5LayerFF(\n",
       "              (DenseReluDense): T5DenseReluDense(\n",
       "                (wi): Linear(in_features=768, out_features=3072, bias=False)\n",
       "                (wo): Linear(in_features=3072, out_features=768, bias=False)\n",
       "                (dropout): Dropout(p=0.1, inplace=False)\n",
       "              )\n",
       "              (layer_norm): T5LayerNorm()\n",
       "              (dropout): Dropout(p=0.1, inplace=False)\n",
       "            )\n",
       "          )\n",
       "        )\n",
       "        (3): T5Block(\n",
       "          (layer): ModuleList(\n",
       "            (0): T5LayerSelfAttention(\n",
       "              (SelfAttention): T5Attention(\n",
       "                (q): Linear(in_features=768, out_features=768, bias=False)\n",
       "                (k): Linear(in_features=768, out_features=768, bias=False)\n",
       "                (v): Linear(in_features=768, out_features=768, bias=False)\n",
       "                (o): Linear(in_features=768, out_features=768, bias=False)\n",
       "              )\n",
       "              (layer_norm): T5LayerNorm()\n",
       "              (dropout): Dropout(p=0.1, inplace=False)\n",
       "            )\n",
       "            (1): T5LayerFF(\n",
       "              (DenseReluDense): T5DenseReluDense(\n",
       "                (wi): Linear(in_features=768, out_features=3072, bias=False)\n",
       "                (wo): Linear(in_features=3072, out_features=768, bias=False)\n",
       "                (dropout): Dropout(p=0.1, inplace=False)\n",
       "              )\n",
       "              (layer_norm): T5LayerNorm()\n",
       "              (dropout): Dropout(p=0.1, inplace=False)\n",
       "            )\n",
       "          )\n",
       "        )\n",
       "        (4): T5Block(\n",
       "          (layer): ModuleList(\n",
       "            (0): T5LayerSelfAttention(\n",
       "              (SelfAttention): T5Attention(\n",
       "                (q): Linear(in_features=768, out_features=768, bias=False)\n",
       "                (k): Linear(in_features=768, out_features=768, bias=False)\n",
       "                (v): Linear(in_features=768, out_features=768, bias=False)\n",
       "                (o): Linear(in_features=768, out_features=768, bias=False)\n",
       "              )\n",
       "              (layer_norm): T5LayerNorm()\n",
       "              (dropout): Dropout(p=0.1, inplace=False)\n",
       "            )\n",
       "            (1): T5LayerFF(\n",
       "              (DenseReluDense): T5DenseReluDense(\n",
       "                (wi): Linear(in_features=768, out_features=3072, bias=False)\n",
       "                (wo): Linear(in_features=3072, out_features=768, bias=False)\n",
       "                (dropout): Dropout(p=0.1, inplace=False)\n",
       "              )\n",
       "              (layer_norm): T5LayerNorm()\n",
       "              (dropout): Dropout(p=0.1, inplace=False)\n",
       "            )\n",
       "          )\n",
       "        )\n",
       "        (5): T5Block(\n",
       "          (layer): ModuleList(\n",
       "            (0): T5LayerSelfAttention(\n",
       "              (SelfAttention): T5Attention(\n",
       "                (q): Linear(in_features=768, out_features=768, bias=False)\n",
       "                (k): Linear(in_features=768, out_features=768, bias=False)\n",
       "                (v): Linear(in_features=768, out_features=768, bias=False)\n",
       "                (o): Linear(in_features=768, out_features=768, bias=False)\n",
       "              )\n",
       "              (layer_norm): T5LayerNorm()\n",
       "              (dropout): Dropout(p=0.1, inplace=False)\n",
       "            )\n",
       "            (1): T5LayerFF(\n",
       "              (DenseReluDense): T5DenseReluDense(\n",
       "                (wi): Linear(in_features=768, out_features=3072, bias=False)\n",
       "                (wo): Linear(in_features=3072, out_features=768, bias=False)\n",
       "                (dropout): Dropout(p=0.1, inplace=False)\n",
       "              )\n",
       "              (layer_norm): T5LayerNorm()\n",
       "              (dropout): Dropout(p=0.1, inplace=False)\n",
       "            )\n",
       "          )\n",
       "        )\n",
       "        (6): T5Block(\n",
       "          (layer): ModuleList(\n",
       "            (0): T5LayerSelfAttention(\n",
       "              (SelfAttention): T5Attention(\n",
       "                (q): Linear(in_features=768, out_features=768, bias=False)\n",
       "                (k): Linear(in_features=768, out_features=768, bias=False)\n",
       "                (v): Linear(in_features=768, out_features=768, bias=False)\n",
       "                (o): Linear(in_features=768, out_features=768, bias=False)\n",
       "              )\n",
       "              (layer_norm): T5LayerNorm()\n",
       "              (dropout): Dropout(p=0.1, inplace=False)\n",
       "            )\n",
       "            (1): T5LayerFF(\n",
       "              (DenseReluDense): T5DenseReluDense(\n",
       "                (wi): Linear(in_features=768, out_features=3072, bias=False)\n",
       "                (wo): Linear(in_features=3072, out_features=768, bias=False)\n",
       "                (dropout): Dropout(p=0.1, inplace=False)\n",
       "              )\n",
       "              (layer_norm): T5LayerNorm()\n",
       "              (dropout): Dropout(p=0.1, inplace=False)\n",
       "            )\n",
       "          )\n",
       "        )\n",
       "        (7): T5Block(\n",
       "          (layer): ModuleList(\n",
       "            (0): T5LayerSelfAttention(\n",
       "              (SelfAttention): T5Attention(\n",
       "                (q): Linear(in_features=768, out_features=768, bias=False)\n",
       "                (k): Linear(in_features=768, out_features=768, bias=False)\n",
       "                (v): Linear(in_features=768, out_features=768, bias=False)\n",
       "                (o): Linear(in_features=768, out_features=768, bias=False)\n",
       "              )\n",
       "              (layer_norm): T5LayerNorm()\n",
       "              (dropout): Dropout(p=0.1, inplace=False)\n",
       "            )\n",
       "            (1): T5LayerFF(\n",
       "              (DenseReluDense): T5DenseReluDense(\n",
       "                (wi): Linear(in_features=768, out_features=3072, bias=False)\n",
       "                (wo): Linear(in_features=3072, out_features=768, bias=False)\n",
       "                (dropout): Dropout(p=0.1, inplace=False)\n",
       "              )\n",
       "              (layer_norm): T5LayerNorm()\n",
       "              (dropout): Dropout(p=0.1, inplace=False)\n",
       "            )\n",
       "          )\n",
       "        )\n",
       "        (8): T5Block(\n",
       "          (layer): ModuleList(\n",
       "            (0): T5LayerSelfAttention(\n",
       "              (SelfAttention): T5Attention(\n",
       "                (q): Linear(in_features=768, out_features=768, bias=False)\n",
       "                (k): Linear(in_features=768, out_features=768, bias=False)\n",
       "                (v): Linear(in_features=768, out_features=768, bias=False)\n",
       "                (o): Linear(in_features=768, out_features=768, bias=False)\n",
       "              )\n",
       "              (layer_norm): T5LayerNorm()\n",
       "              (dropout): Dropout(p=0.1, inplace=False)\n",
       "            )\n",
       "            (1): T5LayerFF(\n",
       "              (DenseReluDense): T5DenseReluDense(\n",
       "                (wi): Linear(in_features=768, out_features=3072, bias=False)\n",
       "                (wo): Linear(in_features=3072, out_features=768, bias=False)\n",
       "                (dropout): Dropout(p=0.1, inplace=False)\n",
       "              )\n",
       "              (layer_norm): T5LayerNorm()\n",
       "              (dropout): Dropout(p=0.1, inplace=False)\n",
       "            )\n",
       "          )\n",
       "        )\n",
       "        (9): T5Block(\n",
       "          (layer): ModuleList(\n",
       "            (0): T5LayerSelfAttention(\n",
       "              (SelfAttention): T5Attention(\n",
       "                (q): Linear(in_features=768, out_features=768, bias=False)\n",
       "                (k): Linear(in_features=768, out_features=768, bias=False)\n",
       "                (v): Linear(in_features=768, out_features=768, bias=False)\n",
       "                (o): Linear(in_features=768, out_features=768, bias=False)\n",
       "              )\n",
       "              (layer_norm): T5LayerNorm()\n",
       "              (dropout): Dropout(p=0.1, inplace=False)\n",
       "            )\n",
       "            (1): T5LayerFF(\n",
       "              (DenseReluDense): T5DenseReluDense(\n",
       "                (wi): Linear(in_features=768, out_features=3072, bias=False)\n",
       "                (wo): Linear(in_features=3072, out_features=768, bias=False)\n",
       "                (dropout): Dropout(p=0.1, inplace=False)\n",
       "              )\n",
       "              (layer_norm): T5LayerNorm()\n",
       "              (dropout): Dropout(p=0.1, inplace=False)\n",
       "            )\n",
       "          )\n",
       "        )\n",
       "        (10): T5Block(\n",
       "          (layer): ModuleList(\n",
       "            (0): T5LayerSelfAttention(\n",
       "              (SelfAttention): T5Attention(\n",
       "                (q): Linear(in_features=768, out_features=768, bias=False)\n",
       "                (k): Linear(in_features=768, out_features=768, bias=False)\n",
       "                (v): Linear(in_features=768, out_features=768, bias=False)\n",
       "                (o): Linear(in_features=768, out_features=768, bias=False)\n",
       "              )\n",
       "              (layer_norm): T5LayerNorm()\n",
       "              (dropout): Dropout(p=0.1, inplace=False)\n",
       "            )\n",
       "            (1): T5LayerFF(\n",
       "              (DenseReluDense): T5DenseReluDense(\n",
       "                (wi): Linear(in_features=768, out_features=3072, bias=False)\n",
       "                (wo): Linear(in_features=3072, out_features=768, bias=False)\n",
       "                (dropout): Dropout(p=0.1, inplace=False)\n",
       "              )\n",
       "              (layer_norm): T5LayerNorm()\n",
       "              (dropout): Dropout(p=0.1, inplace=False)\n",
       "            )\n",
       "          )\n",
       "        )\n",
       "        (11): T5Block(\n",
       "          (layer): ModuleList(\n",
       "            (0): T5LayerSelfAttention(\n",
       "              (SelfAttention): T5Attention(\n",
       "                (q): Linear(in_features=768, out_features=768, bias=False)\n",
       "                (k): Linear(in_features=768, out_features=768, bias=False)\n",
       "                (v): Linear(in_features=768, out_features=768, bias=False)\n",
       "                (o): Linear(in_features=768, out_features=768, bias=False)\n",
       "              )\n",
       "              (layer_norm): T5LayerNorm()\n",
       "              (dropout): Dropout(p=0.1, inplace=False)\n",
       "            )\n",
       "            (1): T5LayerFF(\n",
       "              (DenseReluDense): T5DenseReluDense(\n",
       "                (wi): Linear(in_features=768, out_features=3072, bias=False)\n",
       "                (wo): Linear(in_features=3072, out_features=768, bias=False)\n",
       "                (dropout): Dropout(p=0.1, inplace=False)\n",
       "              )\n",
       "              (layer_norm): T5LayerNorm()\n",
       "              (dropout): Dropout(p=0.1, inplace=False)\n",
       "            )\n",
       "          )\n",
       "        )\n",
       "      )\n",
       "      (final_layer_norm): T5LayerNorm()\n",
       "      (dropout): Dropout(p=0.1, inplace=False)\n",
       "    )\n",
       "    (decoder): T5Stack(\n",
       "      (embed_tokens): Embedding(32128, 768)\n",
       "      (block): ModuleList(\n",
       "        (0): T5Block(\n",
       "          (layer): ModuleList(\n",
       "            (0): T5LayerSelfAttention(\n",
       "              (SelfAttention): T5Attention(\n",
       "                (q): Linear(in_features=768, out_features=768, bias=False)\n",
       "                (k): Linear(in_features=768, out_features=768, bias=False)\n",
       "                (v): Linear(in_features=768, out_features=768, bias=False)\n",
       "                (o): Linear(in_features=768, out_features=768, bias=False)\n",
       "                (relative_attention_bias): Embedding(32, 12)\n",
       "              )\n",
       "              (layer_norm): T5LayerNorm()\n",
       "              (dropout): Dropout(p=0.1, inplace=False)\n",
       "            )\n",
       "            (1): T5LayerCrossAttention(\n",
       "              (EncDecAttention): T5Attention(\n",
       "                (q): Linear(in_features=768, out_features=768, bias=False)\n",
       "                (k): Linear(in_features=768, out_features=768, bias=False)\n",
       "                (v): Linear(in_features=768, out_features=768, bias=False)\n",
       "                (o): Linear(in_features=768, out_features=768, bias=False)\n",
       "              )\n",
       "              (layer_norm): T5LayerNorm()\n",
       "              (dropout): Dropout(p=0.1, inplace=False)\n",
       "            )\n",
       "            (2): T5LayerFF(\n",
       "              (DenseReluDense): T5DenseReluDense(\n",
       "                (wi): Linear(in_features=768, out_features=3072, bias=False)\n",
       "                (wo): Linear(in_features=3072, out_features=768, bias=False)\n",
       "                (dropout): Dropout(p=0.1, inplace=False)\n",
       "              )\n",
       "              (layer_norm): T5LayerNorm()\n",
       "              (dropout): Dropout(p=0.1, inplace=False)\n",
       "            )\n",
       "          )\n",
       "        )\n",
       "        (1): T5Block(\n",
       "          (layer): ModuleList(\n",
       "            (0): T5LayerSelfAttention(\n",
       "              (SelfAttention): T5Attention(\n",
       "                (q): Linear(in_features=768, out_features=768, bias=False)\n",
       "                (k): Linear(in_features=768, out_features=768, bias=False)\n",
       "                (v): Linear(in_features=768, out_features=768, bias=False)\n",
       "                (o): Linear(in_features=768, out_features=768, bias=False)\n",
       "              )\n",
       "              (layer_norm): T5LayerNorm()\n",
       "              (dropout): Dropout(p=0.1, inplace=False)\n",
       "            )\n",
       "            (1): T5LayerCrossAttention(\n",
       "              (EncDecAttention): T5Attention(\n",
       "                (q): Linear(in_features=768, out_features=768, bias=False)\n",
       "                (k): Linear(in_features=768, out_features=768, bias=False)\n",
       "                (v): Linear(in_features=768, out_features=768, bias=False)\n",
       "                (o): Linear(in_features=768, out_features=768, bias=False)\n",
       "              )\n",
       "              (layer_norm): T5LayerNorm()\n",
       "              (dropout): Dropout(p=0.1, inplace=False)\n",
       "            )\n",
       "            (2): T5LayerFF(\n",
       "              (DenseReluDense): T5DenseReluDense(\n",
       "                (wi): Linear(in_features=768, out_features=3072, bias=False)\n",
       "                (wo): Linear(in_features=3072, out_features=768, bias=False)\n",
       "                (dropout): Dropout(p=0.1, inplace=False)\n",
       "              )\n",
       "              (layer_norm): T5LayerNorm()\n",
       "              (dropout): Dropout(p=0.1, inplace=False)\n",
       "            )\n",
       "          )\n",
       "        )\n",
       "        (2): T5Block(\n",
       "          (layer): ModuleList(\n",
       "            (0): T5LayerSelfAttention(\n",
       "              (SelfAttention): T5Attention(\n",
       "                (q): Linear(in_features=768, out_features=768, bias=False)\n",
       "                (k): Linear(in_features=768, out_features=768, bias=False)\n",
       "                (v): Linear(in_features=768, out_features=768, bias=False)\n",
       "                (o): Linear(in_features=768, out_features=768, bias=False)\n",
       "              )\n",
       "              (layer_norm): T5LayerNorm()\n",
       "              (dropout): Dropout(p=0.1, inplace=False)\n",
       "            )\n",
       "            (1): T5LayerCrossAttention(\n",
       "              (EncDecAttention): T5Attention(\n",
       "                (q): Linear(in_features=768, out_features=768, bias=False)\n",
       "                (k): Linear(in_features=768, out_features=768, bias=False)\n",
       "                (v): Linear(in_features=768, out_features=768, bias=False)\n",
       "                (o): Linear(in_features=768, out_features=768, bias=False)\n",
       "              )\n",
       "              (layer_norm): T5LayerNorm()\n",
       "              (dropout): Dropout(p=0.1, inplace=False)\n",
       "            )\n",
       "            (2): T5LayerFF(\n",
       "              (DenseReluDense): T5DenseReluDense(\n",
       "                (wi): Linear(in_features=768, out_features=3072, bias=False)\n",
       "                (wo): Linear(in_features=3072, out_features=768, bias=False)\n",
       "                (dropout): Dropout(p=0.1, inplace=False)\n",
       "              )\n",
       "              (layer_norm): T5LayerNorm()\n",
       "              (dropout): Dropout(p=0.1, inplace=False)\n",
       "            )\n",
       "          )\n",
       "        )\n",
       "        (3): T5Block(\n",
       "          (layer): ModuleList(\n",
       "            (0): T5LayerSelfAttention(\n",
       "              (SelfAttention): T5Attention(\n",
       "                (q): Linear(in_features=768, out_features=768, bias=False)\n",
       "                (k): Linear(in_features=768, out_features=768, bias=False)\n",
       "                (v): Linear(in_features=768, out_features=768, bias=False)\n",
       "                (o): Linear(in_features=768, out_features=768, bias=False)\n",
       "              )\n",
       "              (layer_norm): T5LayerNorm()\n",
       "              (dropout): Dropout(p=0.1, inplace=False)\n",
       "            )\n",
       "            (1): T5LayerCrossAttention(\n",
       "              (EncDecAttention): T5Attention(\n",
       "                (q): Linear(in_features=768, out_features=768, bias=False)\n",
       "                (k): Linear(in_features=768, out_features=768, bias=False)\n",
       "                (v): Linear(in_features=768, out_features=768, bias=False)\n",
       "                (o): Linear(in_features=768, out_features=768, bias=False)\n",
       "              )\n",
       "              (layer_norm): T5LayerNorm()\n",
       "              (dropout): Dropout(p=0.1, inplace=False)\n",
       "            )\n",
       "            (2): T5LayerFF(\n",
       "              (DenseReluDense): T5DenseReluDense(\n",
       "                (wi): Linear(in_features=768, out_features=3072, bias=False)\n",
       "                (wo): Linear(in_features=3072, out_features=768, bias=False)\n",
       "                (dropout): Dropout(p=0.1, inplace=False)\n",
       "              )\n",
       "              (layer_norm): T5LayerNorm()\n",
       "              (dropout): Dropout(p=0.1, inplace=False)\n",
       "            )\n",
       "          )\n",
       "        )\n",
       "        (4): T5Block(\n",
       "          (layer): ModuleList(\n",
       "            (0): T5LayerSelfAttention(\n",
       "              (SelfAttention): T5Attention(\n",
       "                (q): Linear(in_features=768, out_features=768, bias=False)\n",
       "                (k): Linear(in_features=768, out_features=768, bias=False)\n",
       "                (v): Linear(in_features=768, out_features=768, bias=False)\n",
       "                (o): Linear(in_features=768, out_features=768, bias=False)\n",
       "              )\n",
       "              (layer_norm): T5LayerNorm()\n",
       "              (dropout): Dropout(p=0.1, inplace=False)\n",
       "            )\n",
       "            (1): T5LayerCrossAttention(\n",
       "              (EncDecAttention): T5Attention(\n",
       "                (q): Linear(in_features=768, out_features=768, bias=False)\n",
       "                (k): Linear(in_features=768, out_features=768, bias=False)\n",
       "                (v): Linear(in_features=768, out_features=768, bias=False)\n",
       "                (o): Linear(in_features=768, out_features=768, bias=False)\n",
       "              )\n",
       "              (layer_norm): T5LayerNorm()\n",
       "              (dropout): Dropout(p=0.1, inplace=False)\n",
       "            )\n",
       "            (2): T5LayerFF(\n",
       "              (DenseReluDense): T5DenseReluDense(\n",
       "                (wi): Linear(in_features=768, out_features=3072, bias=False)\n",
       "                (wo): Linear(in_features=3072, out_features=768, bias=False)\n",
       "                (dropout): Dropout(p=0.1, inplace=False)\n",
       "              )\n",
       "              (layer_norm): T5LayerNorm()\n",
       "              (dropout): Dropout(p=0.1, inplace=False)\n",
       "            )\n",
       "          )\n",
       "        )\n",
       "        (5): T5Block(\n",
       "          (layer): ModuleList(\n",
       "            (0): T5LayerSelfAttention(\n",
       "              (SelfAttention): T5Attention(\n",
       "                (q): Linear(in_features=768, out_features=768, bias=False)\n",
       "                (k): Linear(in_features=768, out_features=768, bias=False)\n",
       "                (v): Linear(in_features=768, out_features=768, bias=False)\n",
       "                (o): Linear(in_features=768, out_features=768, bias=False)\n",
       "              )\n",
       "              (layer_norm): T5LayerNorm()\n",
       "              (dropout): Dropout(p=0.1, inplace=False)\n",
       "            )\n",
       "            (1): T5LayerCrossAttention(\n",
       "              (EncDecAttention): T5Attention(\n",
       "                (q): Linear(in_features=768, out_features=768, bias=False)\n",
       "                (k): Linear(in_features=768, out_features=768, bias=False)\n",
       "                (v): Linear(in_features=768, out_features=768, bias=False)\n",
       "                (o): Linear(in_features=768, out_features=768, bias=False)\n",
       "              )\n",
       "              (layer_norm): T5LayerNorm()\n",
       "              (dropout): Dropout(p=0.1, inplace=False)\n",
       "            )\n",
       "            (2): T5LayerFF(\n",
       "              (DenseReluDense): T5DenseReluDense(\n",
       "                (wi): Linear(in_features=768, out_features=3072, bias=False)\n",
       "                (wo): Linear(in_features=3072, out_features=768, bias=False)\n",
       "                (dropout): Dropout(p=0.1, inplace=False)\n",
       "              )\n",
       "              (layer_norm): T5LayerNorm()\n",
       "              (dropout): Dropout(p=0.1, inplace=False)\n",
       "            )\n",
       "          )\n",
       "        )\n",
       "        (6): T5Block(\n",
       "          (layer): ModuleList(\n",
       "            (0): T5LayerSelfAttention(\n",
       "              (SelfAttention): T5Attention(\n",
       "                (q): Linear(in_features=768, out_features=768, bias=False)\n",
       "                (k): Linear(in_features=768, out_features=768, bias=False)\n",
       "                (v): Linear(in_features=768, out_features=768, bias=False)\n",
       "                (o): Linear(in_features=768, out_features=768, bias=False)\n",
       "              )\n",
       "              (layer_norm): T5LayerNorm()\n",
       "              (dropout): Dropout(p=0.1, inplace=False)\n",
       "            )\n",
       "            (1): T5LayerCrossAttention(\n",
       "              (EncDecAttention): T5Attention(\n",
       "                (q): Linear(in_features=768, out_features=768, bias=False)\n",
       "                (k): Linear(in_features=768, out_features=768, bias=False)\n",
       "                (v): Linear(in_features=768, out_features=768, bias=False)\n",
       "                (o): Linear(in_features=768, out_features=768, bias=False)\n",
       "              )\n",
       "              (layer_norm): T5LayerNorm()\n",
       "              (dropout): Dropout(p=0.1, inplace=False)\n",
       "            )\n",
       "            (2): T5LayerFF(\n",
       "              (DenseReluDense): T5DenseReluDense(\n",
       "                (wi): Linear(in_features=768, out_features=3072, bias=False)\n",
       "                (wo): Linear(in_features=3072, out_features=768, bias=False)\n",
       "                (dropout): Dropout(p=0.1, inplace=False)\n",
       "              )\n",
       "              (layer_norm): T5LayerNorm()\n",
       "              (dropout): Dropout(p=0.1, inplace=False)\n",
       "            )\n",
       "          )\n",
       "        )\n",
       "        (7): T5Block(\n",
       "          (layer): ModuleList(\n",
       "            (0): T5LayerSelfAttention(\n",
       "              (SelfAttention): T5Attention(\n",
       "                (q): Linear(in_features=768, out_features=768, bias=False)\n",
       "                (k): Linear(in_features=768, out_features=768, bias=False)\n",
       "                (v): Linear(in_features=768, out_features=768, bias=False)\n",
       "                (o): Linear(in_features=768, out_features=768, bias=False)\n",
       "              )\n",
       "              (layer_norm): T5LayerNorm()\n",
       "              (dropout): Dropout(p=0.1, inplace=False)\n",
       "            )\n",
       "            (1): T5LayerCrossAttention(\n",
       "              (EncDecAttention): T5Attention(\n",
       "                (q): Linear(in_features=768, out_features=768, bias=False)\n",
       "                (k): Linear(in_features=768, out_features=768, bias=False)\n",
       "                (v): Linear(in_features=768, out_features=768, bias=False)\n",
       "                (o): Linear(in_features=768, out_features=768, bias=False)\n",
       "              )\n",
       "              (layer_norm): T5LayerNorm()\n",
       "              (dropout): Dropout(p=0.1, inplace=False)\n",
       "            )\n",
       "            (2): T5LayerFF(\n",
       "              (DenseReluDense): T5DenseReluDense(\n",
       "                (wi): Linear(in_features=768, out_features=3072, bias=False)\n",
       "                (wo): Linear(in_features=3072, out_features=768, bias=False)\n",
       "                (dropout): Dropout(p=0.1, inplace=False)\n",
       "              )\n",
       "              (layer_norm): T5LayerNorm()\n",
       "              (dropout): Dropout(p=0.1, inplace=False)\n",
       "            )\n",
       "          )\n",
       "        )\n",
       "        (8): T5Block(\n",
       "          (layer): ModuleList(\n",
       "            (0): T5LayerSelfAttention(\n",
       "              (SelfAttention): T5Attention(\n",
       "                (q): Linear(in_features=768, out_features=768, bias=False)\n",
       "                (k): Linear(in_features=768, out_features=768, bias=False)\n",
       "                (v): Linear(in_features=768, out_features=768, bias=False)\n",
       "                (o): Linear(in_features=768, out_features=768, bias=False)\n",
       "              )\n",
       "              (layer_norm): T5LayerNorm()\n",
       "              (dropout): Dropout(p=0.1, inplace=False)\n",
       "            )\n",
       "            (1): T5LayerCrossAttention(\n",
       "              (EncDecAttention): T5Attention(\n",
       "                (q): Linear(in_features=768, out_features=768, bias=False)\n",
       "                (k): Linear(in_features=768, out_features=768, bias=False)\n",
       "                (v): Linear(in_features=768, out_features=768, bias=False)\n",
       "                (o): Linear(in_features=768, out_features=768, bias=False)\n",
       "              )\n",
       "              (layer_norm): T5LayerNorm()\n",
       "              (dropout): Dropout(p=0.1, inplace=False)\n",
       "            )\n",
       "            (2): T5LayerFF(\n",
       "              (DenseReluDense): T5DenseReluDense(\n",
       "                (wi): Linear(in_features=768, out_features=3072, bias=False)\n",
       "                (wo): Linear(in_features=3072, out_features=768, bias=False)\n",
       "                (dropout): Dropout(p=0.1, inplace=False)\n",
       "              )\n",
       "              (layer_norm): T5LayerNorm()\n",
       "              (dropout): Dropout(p=0.1, inplace=False)\n",
       "            )\n",
       "          )\n",
       "        )\n",
       "        (9): T5Block(\n",
       "          (layer): ModuleList(\n",
       "            (0): T5LayerSelfAttention(\n",
       "              (SelfAttention): T5Attention(\n",
       "                (q): Linear(in_features=768, out_features=768, bias=False)\n",
       "                (k): Linear(in_features=768, out_features=768, bias=False)\n",
       "                (v): Linear(in_features=768, out_features=768, bias=False)\n",
       "                (o): Linear(in_features=768, out_features=768, bias=False)\n",
       "              )\n",
       "              (layer_norm): T5LayerNorm()\n",
       "              (dropout): Dropout(p=0.1, inplace=False)\n",
       "            )\n",
       "            (1): T5LayerCrossAttention(\n",
       "              (EncDecAttention): T5Attention(\n",
       "                (q): Linear(in_features=768, out_features=768, bias=False)\n",
       "                (k): Linear(in_features=768, out_features=768, bias=False)\n",
       "                (v): Linear(in_features=768, out_features=768, bias=False)\n",
       "                (o): Linear(in_features=768, out_features=768, bias=False)\n",
       "              )\n",
       "              (layer_norm): T5LayerNorm()\n",
       "              (dropout): Dropout(p=0.1, inplace=False)\n",
       "            )\n",
       "            (2): T5LayerFF(\n",
       "              (DenseReluDense): T5DenseReluDense(\n",
       "                (wi): Linear(in_features=768, out_features=3072, bias=False)\n",
       "                (wo): Linear(in_features=3072, out_features=768, bias=False)\n",
       "                (dropout): Dropout(p=0.1, inplace=False)\n",
       "              )\n",
       "              (layer_norm): T5LayerNorm()\n",
       "              (dropout): Dropout(p=0.1, inplace=False)\n",
       "            )\n",
       "          )\n",
       "        )\n",
       "        (10): T5Block(\n",
       "          (layer): ModuleList(\n",
       "            (0): T5LayerSelfAttention(\n",
       "              (SelfAttention): T5Attention(\n",
       "                (q): Linear(in_features=768, out_features=768, bias=False)\n",
       "                (k): Linear(in_features=768, out_features=768, bias=False)\n",
       "                (v): Linear(in_features=768, out_features=768, bias=False)\n",
       "                (o): Linear(in_features=768, out_features=768, bias=False)\n",
       "              )\n",
       "              (layer_norm): T5LayerNorm()\n",
       "              (dropout): Dropout(p=0.1, inplace=False)\n",
       "            )\n",
       "            (1): T5LayerCrossAttention(\n",
       "              (EncDecAttention): T5Attention(\n",
       "                (q): Linear(in_features=768, out_features=768, bias=False)\n",
       "                (k): Linear(in_features=768, out_features=768, bias=False)\n",
       "                (v): Linear(in_features=768, out_features=768, bias=False)\n",
       "                (o): Linear(in_features=768, out_features=768, bias=False)\n",
       "              )\n",
       "              (layer_norm): T5LayerNorm()\n",
       "              (dropout): Dropout(p=0.1, inplace=False)\n",
       "            )\n",
       "            (2): T5LayerFF(\n",
       "              (DenseReluDense): T5DenseReluDense(\n",
       "                (wi): Linear(in_features=768, out_features=3072, bias=False)\n",
       "                (wo): Linear(in_features=3072, out_features=768, bias=False)\n",
       "                (dropout): Dropout(p=0.1, inplace=False)\n",
       "              )\n",
       "              (layer_norm): T5LayerNorm()\n",
       "              (dropout): Dropout(p=0.1, inplace=False)\n",
       "            )\n",
       "          )\n",
       "        )\n",
       "        (11): T5Block(\n",
       "          (layer): ModuleList(\n",
       "            (0): T5LayerSelfAttention(\n",
       "              (SelfAttention): T5Attention(\n",
       "                (q): Linear(in_features=768, out_features=768, bias=False)\n",
       "                (k): Linear(in_features=768, out_features=768, bias=False)\n",
       "                (v): Linear(in_features=768, out_features=768, bias=False)\n",
       "                (o): Linear(in_features=768, out_features=768, bias=False)\n",
       "              )\n",
       "              (layer_norm): T5LayerNorm()\n",
       "              (dropout): Dropout(p=0.1, inplace=False)\n",
       "            )\n",
       "            (1): T5LayerCrossAttention(\n",
       "              (EncDecAttention): T5Attention(\n",
       "                (q): Linear(in_features=768, out_features=768, bias=False)\n",
       "                (k): Linear(in_features=768, out_features=768, bias=False)\n",
       "                (v): Linear(in_features=768, out_features=768, bias=False)\n",
       "                (o): Linear(in_features=768, out_features=768, bias=False)\n",
       "              )\n",
       "              (layer_norm): T5LayerNorm()\n",
       "              (dropout): Dropout(p=0.1, inplace=False)\n",
       "            )\n",
       "            (2): T5LayerFF(\n",
       "              (DenseReluDense): T5DenseReluDense(\n",
       "                (wi): Linear(in_features=768, out_features=3072, bias=False)\n",
       "                (wo): Linear(in_features=3072, out_features=768, bias=False)\n",
       "                (dropout): Dropout(p=0.1, inplace=False)\n",
       "              )\n",
       "              (layer_norm): T5LayerNorm()\n",
       "              (dropout): Dropout(p=0.1, inplace=False)\n",
       "            )\n",
       "          )\n",
       "        )\n",
       "      )\n",
       "      (final_layer_norm): T5LayerNorm()\n",
       "      (dropout): Dropout(p=0.1, inplace=False)\n",
       "    )\n",
       "    (lm_head): Linear(in_features=768, out_features=32128, bias=False)\n",
       "  )\n",
       ")"
      ]
     },
     "execution_count": 32,
     "metadata": {},
     "output_type": "execute_result"
    }
   ],
   "source": [
    "submission_model = T5Model()\n",
    "submission_model.load_state_dict(torch.load('t5_submission_model.pt'))\n",
    "submission_model.to(device)"
   ]
  },
  {
   "cell_type": "code",
   "execution_count": 33,
   "metadata": {
    "id": "JI-MUk0i-FHH"
   },
   "outputs": [
    {
     "name": "stdout",
     "output_type": "stream",
     "text": [
      "predictions:  <pad> Ophthalmology, Surgery</s>  ground truths:  ['Ophthalmology, Surgery</s> <pad> <pad> <pad> <pad> <pad> <pad> <pad> <pad> <pad>']\n",
      "predictions:  <pad> Ophthalmology, Surgery</s>  ground truths:  ['Ophthalmology, Surgery</s> <pad> <pad> <pad> <pad> <pad> <pad> <pad> <pad> <pad>']\n",
      "predictions:  <pad> Cardiovascular / Pulmonary, Surgery</s>  ground truths:  ['Cardiovascular / Pulmonary, Surgery</s> <pad> <pad> <pad> <pad> <pad> <pad>']\n",
      "predictions:  <pad> General Medicine</s>  ground truths:  ['General Medicine</s> <pad> <pad> <pad> <pad> <pad> <pad> <pad> <pad> <pad> <pad> <pad> <pad> <pad>']\n",
      "predictions:  <pad> Gastroenterology, Surgery</s>  ground truths:  ['Gastroenterology, Surgery</s> <pad> <pad> <pad> <pad> <pad> <pad> <pad> <pad>']\n",
      "predictions:  <pad> Neurology</s>  ground truths:  ['Neurology</s> <pad> <pad> <pad> <pad> <pad> <pad> <pad> <pad> <pad> <pad> <pad> <pad> <pad>']\n",
      "predictions:  <pad> Surgery, Urology</s>  ground truths:  ['Surgery, Urology</s> <pad> <pad> <pad> <pad> <pad> <pad> <pad> <pad> <pad> <pad> <pad>']\n",
      "predictions:  <pad> Gastroenterology, Surgery</s>  ground truths:  ['Gastroenterology</s> <pad> <pad> <pad> <pad> <pad> <pad> <pad> <pad> <pad> <pad>']\n",
      "predictions:  <pad> Neurology</s>  ground truths:  ['Neurology</s> <pad> <pad> <pad> <pad> <pad> <pad> <pad> <pad> <pad> <pad> <pad> <pad> <pad>']\n",
      "predictions:  <pad> Cardiovascular / Pulmonary, Radiology</s>  ground truths:  ['Cardiovascular / Pulmonary, Radiology</s> <pad> <pad> <pad> <pad> <pad>']\n",
      "predictions:  <pad> Cardiovascular / Pulmonary, Radiology</s>  ground truths:  ['Cardiovascular / Pulmonary, Radiology</s> <pad> <pad> <pad> <pad> <pad>']\n",
      "predictions:  <pad> Cardiovascular / Pulmonary, Office Notes</s>  ground truths:  ['Cardiovascular / Pulmonary</s> <pad> <pad> <pad> <pad> <pad> <pad> <pad> <pad>']\n"
     ]
    }
   ],
   "source": [
    "# evaluation samples\n",
    "\n",
    "# evaluate\n",
    "def eval_sample(model):\n",
    "    for i, batch in enumerate(val_dataloader):\n",
    "        pred = []\n",
    "        true = []\n",
    "        b_src_input_ids = batch['src_input_ids'].to(device)\n",
    "        b_src_attention_mask = batch['src_attention_mask'].to(device)\n",
    "        b_tgt_input_ids = batch['tgt_input_ids']\n",
    "\n",
    "        with torch.no_grad():\n",
    "            # get pred\n",
    "            pred_ids = model.t5_model.generate(\n",
    "                input_ids=b_src_input_ids, \n",
    "                attention_mask=b_src_attention_mask\n",
    "            )\n",
    "            pred_ids = pred_ids.cpu().numpy()\n",
    "            for pred_id in pred_ids:\n",
    "                pred_decoded = config.TOKENIZER.decode(pred_id)\n",
    "                pred.append(pred_decoded)\n",
    "\n",
    "\n",
    "        for true_id in b_tgt_input_ids:\n",
    "            true_decoded = config.TOKENIZER.decode(true_id)\n",
    "            true.append(true_decoded)\n",
    "\n",
    "\n",
    "        print(\"predictions: \", pred_decoded, \" ground truths: \", true)\n",
    "        if i > 10: break\n",
    "\n",
    "\n",
    "eval_sample(submission_model)"
   ]
  },
  {
   "cell_type": "code",
   "execution_count": 38,
   "metadata": {},
   "outputs": [
    {
     "name": "stdout",
     "output_type": "stream",
     "text": [
      "Val loss: 0.4382678328608952\n",
      "Val accuracy: 0.6674698795180722\n",
      "Val micro f1 score: 0.8370473537604456\n",
      "Val macro f1 score: 0.639998443989698\n"
     ]
    },
    {
     "name": "stderr",
     "output_type": "stream",
     "text": [
      "/home/hagaymi/nym/env/lib/python3.8/site-packages/sklearn/metrics/_classification.py:1570: UndefinedMetricWarning: F-score is ill-defined and being set to 0.0 in labels with no true nor predicted samples. Use `zero_division` parameter to control this behavior.\n",
      "  _warn_prf(average, \"true nor predicted\", \"F-score is\", len(true_sum))\n"
     ]
    },
    {
     "data": {
      "text/plain": [
       "(0.8370473537604456, 0.639998443989698)"
      ]
     },
     "execution_count": 38,
     "metadata": {},
     "output_type": "execute_result"
    },
    {
     "data": {
      "image/png": "[encoded data removed]",
      "text/plain": [
       "<Figure size 432x288 with 1 Axes>"
      ]
     },
     "metadata": {
      "needs_background": "light"
     },
     "output_type": "display_data"
    }
   ],
   "source": [
    "# evaluate submission F1 on validation set:\n",
    "val(submission_model, val_dataloader, nn.BCEWithLogitsLoss(), label_stats=True)\n"
   ]
  },
  {
   "cell_type": "markdown",
   "metadata": {
    "id": "85eiHIMXKAz_"
   },
   "source": [
    "# References:\n",
    "- notebook: \"T5 - Multi Label Classification\"\n",
    "https://www.kaggle.com/prithvijaunjale/t5-multi-label-classification\n",
    "\n",
    "- HuggingFace transformers:\n",
    "https://huggingface.co/transformers/\n",
    "\n",
    "- T5 paper\n",
    "https://arxiv.org/abs/1910.10683\n",
    "\n",
    "- Nym\n",
    "https://nym.health/\n",
    "\n"
   ]
  }
 ],
 "metadata": {
  "accelerator": "GPU",
  "colab": {
   "collapsed_sections": [],
   "name": "notebooke964bbfca4.ipynb",
   "provenance": []
  },
  "kernelspec": {
   "display_name": "Python 3 (ipykernel)",
   "language": "python",
   "name": "python3"
  },
  "language_info": {
   "codemirror_mode": {
    "name": "ipython",
    "version": 3
   },
   "file_extension": ".py",
   "mimetype": "text/x-python",
   "name": "python",
   "nbconvert_exporter": "python",
   "pygments_lexer": "ipython3",
   "version": "3.8.10"
  },
  "widgets": {
   "application/vnd.jupyter.widget-state+json": {
    "1def0969f86d4bb088d1c709e7930e31": {
     "model_module": "@jupyter-widgets/controls",
     "model_module_version": "1.5.0",
     "model_name": "HTMLModel",
     "state": {
      "_dom_classes": [],
      "_model_module": "@jupyter-widgets/controls",
      "_model_module_version": "1.5.0",
      "_model_name": "HTMLModel",
      "_view_count": null,
      "_view_module": "@jupyter-widgets/controls",
      "_view_module_version": "1.5.0",
      "_view_name": "HTMLView",
      "description": "",
      "description_tooltip": null,
      "layout": "IPY_MODEL_4da5eb71840a4751a287670b216af3d3",
      "placeholder": "​",
      "style": "IPY_MODEL_f9e4dbdd8f224bf4867c1d5cf737668b",
      "value": " 15/1557 [02:28&lt;4:07:47,  9.64s/it]"
     }
    },
    "31ec9f62b4eb4530a8e1d838c416bd58": {
     "model_module": "@jupyter-widgets/controls",
     "model_module_version": "1.5.0",
     "model_name": "HTMLModel",
     "state": {
      "_dom_classes": [],
      "_model_module": "@jupyter-widgets/controls",
      "_model_module_version": "1.5.0",
      "_model_name": "HTMLModel",
      "_view_count": null,
      "_view_module": "@jupyter-widgets/controls",
      "_view_module_version": "1.5.0",
      "_view_name": "HTMLView",
      "description": "",
      "description_tooltip": null,
      "layout": "IPY_MODEL_fc13149dd80646099e4daceb0069970d",
      "placeholder": "​",
      "style": "IPY_MODEL_c096e21111ee43499b42feaca1e4579f",
      "value": "Epoch 0:   1%"
     }
    },
    "3c2d9a247866441285bc590dc8e77f4e": {
     "model_module": "@jupyter-widgets/controls",
     "model_module_version": "1.5.0",
     "model_name": "HBoxModel",
     "state": {
      "_dom_classes": [],
      "_model_module": "@jupyter-widgets/controls",
      "_model_module_version": "1.5.0",
      "_model_name": "HBoxModel",
      "_view_count": null,
      "_view_module": "@jupyter-widgets/controls",
      "_view_module_version": "1.5.0",
      "_view_name": "HBoxView",
      "box_style": "",
      "children": [
       "IPY_MODEL_31ec9f62b4eb4530a8e1d838c416bd58",
       "IPY_MODEL_84d2305d4fe746a98fa649e2c4bd959c",
       "IPY_MODEL_1def0969f86d4bb088d1c709e7930e31"
      ],
      "layout": "IPY_MODEL_d09f38a56d914461a5df6b14cb6b2bf1"
     }
    },
    "406b8a2a3eb841f6909b11dd273f4e2f": {
     "model_module": "@jupyter-widgets/base",
     "model_module_version": "1.2.0",
     "model_name": "LayoutModel",
     "state": {
      "_model_module": "@jupyter-widgets/base",
      "_model_module_version": "1.2.0",
      "_model_name": "LayoutModel",
      "_view_count": null,
      "_view_module": "@jupyter-widgets/base",
      "_view_module_version": "1.2.0",
      "_view_name": "LayoutView",
      "align_content": null,
      "align_items": null,
      "align_self": null,
      "border": null,
      "bottom": null,
      "display": null,
      "flex": null,
      "flex_flow": null,
      "grid_area": null,
      "grid_auto_columns": null,
      "grid_auto_flow": null,
      "grid_auto_rows": null,
      "grid_column": null,
      "grid_gap": null,
      "grid_row": null,
      "grid_template_areas": null,
      "grid_template_columns": null,
      "grid_template_rows": null,
      "height": null,
      "justify_content": null,
      "justify_items": null,
      "left": null,
      "margin": null,
      "max_height": null,
      "max_width": null,
      "min_height": null,
      "min_width": null,
      "object_fit": null,
      "object_position": null,
      "order": null,
      "overflow": null,
      "overflow_x": null,
      "overflow_y": null,
      "padding": null,
      "right": null,
      "top": null,
      "visibility": null,
      "width": null
     }
    },
    "4d3705f3b4d34317978375ee66a0dd2e": {
     "model_module": "@jupyter-widgets/controls",
     "model_module_version": "1.5.0",
     "model_name": "ProgressStyleModel",
     "state": {
      "_model_module": "@jupyter-widgets/controls",
      "_model_module_version": "1.5.0",
      "_model_name": "ProgressStyleModel",
      "_view_count": null,
      "_view_module": "@jupyter-widgets/base",
      "_view_module_version": "1.2.0",
      "_view_name": "StyleView",
      "bar_color": null,
      "description_width": ""
     }
    },
    "4da5eb71840a4751a287670b216af3d3": {
     "model_module": "@jupyter-widgets/base",
     "model_module_version": "1.2.0",
     "model_name": "LayoutModel",
     "state": {
      "_model_module": "@jupyter-widgets/base",
      "_model_module_version": "1.2.0",
      "_model_name": "LayoutModel",
      "_view_count": null,
      "_view_module": "@jupyter-widgets/base",
      "_view_module_version": "1.2.0",
      "_view_name": "LayoutView",
      "align_content": null,
      "align_items": null,
      "align_self": null,
      "border": null,
      "bottom": null,
      "display": null,
      "flex": null,
      "flex_flow": null,
      "grid_area": null,
      "grid_auto_columns": null,
      "grid_auto_flow": null,
      "grid_auto_rows": null,
      "grid_column": null,
      "grid_gap": null,
      "grid_row": null,
      "grid_template_areas": null,
      "grid_template_columns": null,
      "grid_template_rows": null,
      "height": null,
      "justify_content": null,
      "justify_items": null,
      "left": null,
      "margin": null,
      "max_height": null,
      "max_width": null,
      "min_height": null,
      "min_width": null,
      "object_fit": null,
      "object_position": null,
      "order": null,
      "overflow": null,
      "overflow_x": null,
      "overflow_y": null,
      "padding": null,
      "right": null,
      "top": null,
      "visibility": null,
      "width": null
     }
    },
    "84d2305d4fe746a98fa649e2c4bd959c": {
     "model_module": "@jupyter-widgets/controls",
     "model_module_version": "1.5.0",
     "model_name": "FloatProgressModel",
     "state": {
      "_dom_classes": [],
      "_model_module": "@jupyter-widgets/controls",
      "_model_module_version": "1.5.0",
      "_model_name": "FloatProgressModel",
      "_view_count": null,
      "_view_module": "@jupyter-widgets/controls",
      "_view_module_version": "1.5.0",
      "_view_name": "ProgressView",
      "bar_style": "",
      "description": "",
      "description_tooltip": null,
      "layout": "IPY_MODEL_406b8a2a3eb841f6909b11dd273f4e2f",
      "max": 1557,
      "min": 0,
      "orientation": "horizontal",
      "style": "IPY_MODEL_4d3705f3b4d34317978375ee66a0dd2e",
      "value": 15
     }
    },
    "c096e21111ee43499b42feaca1e4579f": {
     "model_module": "@jupyter-widgets/controls",
     "model_module_version": "1.5.0",
     "model_name": "DescriptionStyleModel",
     "state": {
      "_model_module": "@jupyter-widgets/controls",
      "_model_module_version": "1.5.0",
      "_model_name": "DescriptionStyleModel",
      "_view_count": null,
      "_view_module": "@jupyter-widgets/base",
      "_view_module_version": "1.2.0",
      "_view_name": "StyleView",
      "description_width": ""
     }
    },
    "d09f38a56d914461a5df6b14cb6b2bf1": {
     "model_module": "@jupyter-widgets/base",
     "model_module_version": "1.2.0",
     "model_name": "LayoutModel",
     "state": {
      "_model_module": "@jupyter-widgets/base",
      "_model_module_version": "1.2.0",
      "_model_name": "LayoutModel",
      "_view_count": null,
      "_view_module": "@jupyter-widgets/base",
      "_view_module_version": "1.2.0",
      "_view_name": "LayoutView",
      "align_content": null,
      "align_items": null,
      "align_self": null,
      "border": null,
      "bottom": null,
      "display": null,
      "flex": null,
      "flex_flow": null,
      "grid_area": null,
      "grid_auto_columns": null,
      "grid_auto_flow": null,
      "grid_auto_rows": null,
      "grid_column": null,
      "grid_gap": null,
      "grid_row": null,
      "grid_template_areas": null,
      "grid_template_columns": null,
      "grid_template_rows": null,
      "height": null,
      "justify_content": null,
      "justify_items": null,
      "left": null,
      "margin": null,
      "max_height": null,
      "max_width": null,
      "min_height": null,
      "min_width": null,
      "object_fit": null,
      "object_position": null,
      "order": null,
      "overflow": null,
      "overflow_x": null,
      "overflow_y": null,
      "padding": null,
      "right": null,
      "top": null,
      "visibility": null,
      "width": null
     }
    },
    "f9e4dbdd8f224bf4867c1d5cf737668b": {
     "model_module": "@jupyter-widgets/controls",
     "model_module_version": "1.5.0",
     "model_name": "DescriptionStyleModel",
     "state": {
      "_model_module": "@jupyter-widgets/controls",
      "_model_module_version": "1.5.0",
      "_model_name": "DescriptionStyleModel",
      "_view_count": null,
      "_view_module": "@jupyter-widgets/base",
      "_view_module_version": "1.2.0",
      "_view_name": "StyleView",
      "description_width": ""
     }
    },
    "fc13149dd80646099e4daceb0069970d": {
     "model_module": "@jupyter-widgets/base",
     "model_module_version": "1.2.0",
     "model_name": "LayoutModel",
     "state": {
      "_model_module": "@jupyter-widgets/base",
      "_model_module_version": "1.2.0",
      "_model_name": "LayoutModel",
      "_view_count": null,
      "_view_module": "@jupyter-widgets/base",
      "_view_module_version": "1.2.0",
      "_view_name": "LayoutView",
      "align_content": null,
      "align_items": null,
      "align_self": null,
      "border": null,
      "bottom": null,
      "display": null,
      "flex": null,
      "flex_flow": null,
      "grid_area": null,
      "grid_auto_columns": null,
      "grid_auto_flow": null,
      "grid_auto_rows": null,
      "grid_column": null,
      "grid_gap": null,
      "grid_row": null,
      "grid_template_areas": null,
      "grid_template_columns": null,
      "grid_template_rows": null,
      "height": null,
      "justify_content": null,
      "justify_items": null,
      "left": null,
      "margin": null,
      "max_height": null,
      "max_width": null,
      "min_height": null,
      "min_width": null,
      "object_fit": null,
      "object_position": null,
      "order": null,
      "overflow": null,
      "overflow_x": null,
      "overflow_y": null,
      "padding": null,
      "right": null,
      "top": null,
      "visibility": null,
      "width": null
     }
    }
   }
  }
 },
 "nbformat": 4,
 "nbformat_minor": 4
}
